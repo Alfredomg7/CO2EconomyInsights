{
 "cells": [
  {
   "cell_type": "markdown",
   "metadata": {},
   "source": [
    "# CO2EconomyInsights\n",
    "\n",
    "## Introduction\n",
    "Welcome to CO2EconomyInsights! This project is an in-depth analysis aimed at uncovering the intricate relationships between CO2 emissions, economic activity, population growth, and temperature variations. Climate change, marked significantly by increasing CO2 emissions, is one of the most pressing issues humanity faces today. Our focus is on data spanning from 1990 to 2020, delving into the contributing factors, the varying roles of different countries and regions, and the overarching trends that define this critical period in environmental change.\n",
    "\n",
    "We believe that understanding the dynamics of CO2 emissions is essential to formulating effective policies, raising awareness, and driving action to mitigate the impacts of climate change. This project strives to bring clarity to these dynamics, offering insights that are accessible, comprehensible, and actionable.\n",
    "\n",
    "## Objective\n",
    "We analyze key trends and correlations across countries and regions, focusing on CO2 emissions in relation to GDP, population, and temperature. Our goal is to identify leading emission contributors, study the impact of economic and demographic factors, and understand temperature-related changes.\n",
    "\n",
    "## Data Cleaning\n",
    "The data used in this analysis has been preprocessed for accuracy and consistency in a dedicated module, clean_data.py. This preprocessing includes handling missing values, normalizing formats, and ensuring data relevance and reliability across various datasets such as CO2 emissions, GDP, population, and temperature. For detailed preprocessing steps, refer to the `clean_data.py` module.\n",
    "\n",
    "## Global CO2 Emissions Trends (1990-2020)\n",
    "This section examines the evolution of global CO2 emissions over three decades. We aim to visualize and understand the global trends and significant changes during this period.\n",
    "\n",
    "### Data Loading and Preparation"
   ]
  },
  {
   "cell_type": "code",
   "execution_count": 1,
   "metadata": {},
   "outputs": [
    {
     "name": "stdout",
     "output_type": "stream",
     "text": [
      "   Year  CO2 Emissions\n",
      "0  1990   2.034678e+07\n",
      "1  1991   2.048748e+07\n",
      "2  1992   2.051612e+07\n",
      "3  1993   2.065387e+07\n",
      "4  1994   2.077113e+07\n",
      "5  1995   2.135832e+07\n",
      "6  1996   2.181230e+07\n",
      "7  1997   2.219552e+07\n",
      "8  1998   2.231532e+07\n",
      "9  1999   2.242669e+07\n"
     ]
    }
   ],
   "source": [
    "# Import pandas module for data manipulation\n",
    "import pandas as pd\n",
    "\n",
    "# Load cleaned CO2 data\n",
    "co2_data = pd.read_csv(\"data/clean_data/cleaned_co2_data.csv\")\n",
    "\n",
    "# Sum the CO2 emissions for each year \n",
    "annual_global_emissions = co2_data.groupby(\"Year\")[\"CO2 Emissions\"].sum().reset_index()\n",
    "print(annual_global_emissions.head(10))"
   ]
  },
  {
   "cell_type": "markdown",
   "metadata": {},
   "source": [
    "### Line Chart"
   ]
  },
  {
   "cell_type": "code",
   "execution_count": 2,
   "metadata": {},
   "outputs": [
    {
     "data": {
      "application/vnd.plotly.v1+json": {
       "config": {
        "plotlyServerURL": "https://plot.ly"
       },
       "data": [
        {
         "hovertemplate": "Year=%{x}<br>CO2 Emissions=%{y:.2s}<extra></extra>",
         "legendgroup": "",
         "line": {
          "color": "#b30000",
          "dash": "solid",
          "shape": "spline",
          "width": 2
         },
         "marker": {
          "symbol": "circle"
         },
         "mode": "lines+markers",
         "name": "",
         "orientation": "v",
         "showlegend": false,
         "type": "scatter",
         "x": [
          1990,
          1991,
          1992,
          1993,
          1994,
          1995,
          1996,
          1997,
          1998,
          1999,
          2000,
          2001,
          2002,
          2003,
          2004,
          2005,
          2006,
          2007,
          2008,
          2009,
          2010,
          2011,
          2012,
          2013,
          2014,
          2015,
          2016,
          2017,
          2018,
          2019,
          2020
         ],
         "xaxis": "x",
         "y": [
          20346779.974391002,
          20487482.732809,
          20516124.210154,
          20653872.66217,
          20771125.694962,
          21358321.74675,
          21812301.778818,
          22195519.994106002,
          22315315.394143,
          22426688.381421,
          23129234.938043002,
          23520776.512887,
          23833010.750006,
          24955336.875028,
          26068415.43688,
          27050743.354547,
          27927125.087012,
          28982630.186604,
          29200513.466155,
          28868765.729781,
          30642400.075663,
          31608947.702182,
          32036099.292447,
          32687367.253886998,
          32785752.33377,
          32542369.413794,
          32572800.788256,
          33057069.799397,
          33905364.657903,
          33837025.026716,
          32320762.313492
         ],
         "yaxis": "y"
        }
       ],
       "layout": {
        "legend": {
         "tracegroupgap": 0
        },
        "template": {
         "data": {
          "bar": [
           {
            "error_x": {
             "color": "#2a3f5f"
            },
            "error_y": {
             "color": "#2a3f5f"
            },
            "marker": {
             "line": {
              "color": "#E5ECF6",
              "width": 0.5
             },
             "pattern": {
              "fillmode": "overlay",
              "size": 10,
              "solidity": 0.2
             }
            },
            "type": "bar"
           }
          ],
          "barpolar": [
           {
            "marker": {
             "line": {
              "color": "#E5ECF6",
              "width": 0.5
             },
             "pattern": {
              "fillmode": "overlay",
              "size": 10,
              "solidity": 0.2
             }
            },
            "type": "barpolar"
           }
          ],
          "carpet": [
           {
            "aaxis": {
             "endlinecolor": "#2a3f5f",
             "gridcolor": "white",
             "linecolor": "white",
             "minorgridcolor": "white",
             "startlinecolor": "#2a3f5f"
            },
            "baxis": {
             "endlinecolor": "#2a3f5f",
             "gridcolor": "white",
             "linecolor": "white",
             "minorgridcolor": "white",
             "startlinecolor": "#2a3f5f"
            },
            "type": "carpet"
           }
          ],
          "choropleth": [
           {
            "colorbar": {
             "outlinewidth": 0,
             "ticks": ""
            },
            "type": "choropleth"
           }
          ],
          "contour": [
           {
            "colorbar": {
             "outlinewidth": 0,
             "ticks": ""
            },
            "colorscale": [
             [
              0,
              "#0d0887"
             ],
             [
              0.1111111111111111,
              "#46039f"
             ],
             [
              0.2222222222222222,
              "#7201a8"
             ],
             [
              0.3333333333333333,
              "#9c179e"
             ],
             [
              0.4444444444444444,
              "#bd3786"
             ],
             [
              0.5555555555555556,
              "#d8576b"
             ],
             [
              0.6666666666666666,
              "#ed7953"
             ],
             [
              0.7777777777777778,
              "#fb9f3a"
             ],
             [
              0.8888888888888888,
              "#fdca26"
             ],
             [
              1,
              "#f0f921"
             ]
            ],
            "type": "contour"
           }
          ],
          "contourcarpet": [
           {
            "colorbar": {
             "outlinewidth": 0,
             "ticks": ""
            },
            "type": "contourcarpet"
           }
          ],
          "heatmap": [
           {
            "colorbar": {
             "outlinewidth": 0,
             "ticks": ""
            },
            "colorscale": [
             [
              0,
              "#0d0887"
             ],
             [
              0.1111111111111111,
              "#46039f"
             ],
             [
              0.2222222222222222,
              "#7201a8"
             ],
             [
              0.3333333333333333,
              "#9c179e"
             ],
             [
              0.4444444444444444,
              "#bd3786"
             ],
             [
              0.5555555555555556,
              "#d8576b"
             ],
             [
              0.6666666666666666,
              "#ed7953"
             ],
             [
              0.7777777777777778,
              "#fb9f3a"
             ],
             [
              0.8888888888888888,
              "#fdca26"
             ],
             [
              1,
              "#f0f921"
             ]
            ],
            "type": "heatmap"
           }
          ],
          "heatmapgl": [
           {
            "colorbar": {
             "outlinewidth": 0,
             "ticks": ""
            },
            "colorscale": [
             [
              0,
              "#0d0887"
             ],
             [
              0.1111111111111111,
              "#46039f"
             ],
             [
              0.2222222222222222,
              "#7201a8"
             ],
             [
              0.3333333333333333,
              "#9c179e"
             ],
             [
              0.4444444444444444,
              "#bd3786"
             ],
             [
              0.5555555555555556,
              "#d8576b"
             ],
             [
              0.6666666666666666,
              "#ed7953"
             ],
             [
              0.7777777777777778,
              "#fb9f3a"
             ],
             [
              0.8888888888888888,
              "#fdca26"
             ],
             [
              1,
              "#f0f921"
             ]
            ],
            "type": "heatmapgl"
           }
          ],
          "histogram": [
           {
            "marker": {
             "pattern": {
              "fillmode": "overlay",
              "size": 10,
              "solidity": 0.2
             }
            },
            "type": "histogram"
           }
          ],
          "histogram2d": [
           {
            "colorbar": {
             "outlinewidth": 0,
             "ticks": ""
            },
            "colorscale": [
             [
              0,
              "#0d0887"
             ],
             [
              0.1111111111111111,
              "#46039f"
             ],
             [
              0.2222222222222222,
              "#7201a8"
             ],
             [
              0.3333333333333333,
              "#9c179e"
             ],
             [
              0.4444444444444444,
              "#bd3786"
             ],
             [
              0.5555555555555556,
              "#d8576b"
             ],
             [
              0.6666666666666666,
              "#ed7953"
             ],
             [
              0.7777777777777778,
              "#fb9f3a"
             ],
             [
              0.8888888888888888,
              "#fdca26"
             ],
             [
              1,
              "#f0f921"
             ]
            ],
            "type": "histogram2d"
           }
          ],
          "histogram2dcontour": [
           {
            "colorbar": {
             "outlinewidth": 0,
             "ticks": ""
            },
            "colorscale": [
             [
              0,
              "#0d0887"
             ],
             [
              0.1111111111111111,
              "#46039f"
             ],
             [
              0.2222222222222222,
              "#7201a8"
             ],
             [
              0.3333333333333333,
              "#9c179e"
             ],
             [
              0.4444444444444444,
              "#bd3786"
             ],
             [
              0.5555555555555556,
              "#d8576b"
             ],
             [
              0.6666666666666666,
              "#ed7953"
             ],
             [
              0.7777777777777778,
              "#fb9f3a"
             ],
             [
              0.8888888888888888,
              "#fdca26"
             ],
             [
              1,
              "#f0f921"
             ]
            ],
            "type": "histogram2dcontour"
           }
          ],
          "mesh3d": [
           {
            "colorbar": {
             "outlinewidth": 0,
             "ticks": ""
            },
            "type": "mesh3d"
           }
          ],
          "parcoords": [
           {
            "line": {
             "colorbar": {
              "outlinewidth": 0,
              "ticks": ""
             }
            },
            "type": "parcoords"
           }
          ],
          "pie": [
           {
            "automargin": true,
            "type": "pie"
           }
          ],
          "scatter": [
           {
            "fillpattern": {
             "fillmode": "overlay",
             "size": 10,
             "solidity": 0.2
            },
            "type": "scatter"
           }
          ],
          "scatter3d": [
           {
            "line": {
             "colorbar": {
              "outlinewidth": 0,
              "ticks": ""
             }
            },
            "marker": {
             "colorbar": {
              "outlinewidth": 0,
              "ticks": ""
             }
            },
            "type": "scatter3d"
           }
          ],
          "scattercarpet": [
           {
            "marker": {
             "colorbar": {
              "outlinewidth": 0,
              "ticks": ""
             }
            },
            "type": "scattercarpet"
           }
          ],
          "scattergeo": [
           {
            "marker": {
             "colorbar": {
              "outlinewidth": 0,
              "ticks": ""
             }
            },
            "type": "scattergeo"
           }
          ],
          "scattergl": [
           {
            "marker": {
             "colorbar": {
              "outlinewidth": 0,
              "ticks": ""
             }
            },
            "type": "scattergl"
           }
          ],
          "scattermapbox": [
           {
            "marker": {
             "colorbar": {
              "outlinewidth": 0,
              "ticks": ""
             }
            },
            "type": "scattermapbox"
           }
          ],
          "scatterpolar": [
           {
            "marker": {
             "colorbar": {
              "outlinewidth": 0,
              "ticks": ""
             }
            },
            "type": "scatterpolar"
           }
          ],
          "scatterpolargl": [
           {
            "marker": {
             "colorbar": {
              "outlinewidth": 0,
              "ticks": ""
             }
            },
            "type": "scatterpolargl"
           }
          ],
          "scatterternary": [
           {
            "marker": {
             "colorbar": {
              "outlinewidth": 0,
              "ticks": ""
             }
            },
            "type": "scatterternary"
           }
          ],
          "surface": [
           {
            "colorbar": {
             "outlinewidth": 0,
             "ticks": ""
            },
            "colorscale": [
             [
              0,
              "#0d0887"
             ],
             [
              0.1111111111111111,
              "#46039f"
             ],
             [
              0.2222222222222222,
              "#7201a8"
             ],
             [
              0.3333333333333333,
              "#9c179e"
             ],
             [
              0.4444444444444444,
              "#bd3786"
             ],
             [
              0.5555555555555556,
              "#d8576b"
             ],
             [
              0.6666666666666666,
              "#ed7953"
             ],
             [
              0.7777777777777778,
              "#fb9f3a"
             ],
             [
              0.8888888888888888,
              "#fdca26"
             ],
             [
              1,
              "#f0f921"
             ]
            ],
            "type": "surface"
           }
          ],
          "table": [
           {
            "cells": {
             "fill": {
              "color": "#EBF0F8"
             },
             "line": {
              "color": "white"
             }
            },
            "header": {
             "fill": {
              "color": "#C8D4E3"
             },
             "line": {
              "color": "white"
             }
            },
            "type": "table"
           }
          ]
         },
         "layout": {
          "annotationdefaults": {
           "arrowcolor": "#2a3f5f",
           "arrowhead": 0,
           "arrowwidth": 1
          },
          "autotypenumbers": "strict",
          "coloraxis": {
           "colorbar": {
            "outlinewidth": 0,
            "ticks": ""
           }
          },
          "colorscale": {
           "diverging": [
            [
             0,
             "#8e0152"
            ],
            [
             0.1,
             "#c51b7d"
            ],
            [
             0.2,
             "#de77ae"
            ],
            [
             0.3,
             "#f1b6da"
            ],
            [
             0.4,
             "#fde0ef"
            ],
            [
             0.5,
             "#f7f7f7"
            ],
            [
             0.6,
             "#e6f5d0"
            ],
            [
             0.7,
             "#b8e186"
            ],
            [
             0.8,
             "#7fbc41"
            ],
            [
             0.9,
             "#4d9221"
            ],
            [
             1,
             "#276419"
            ]
           ],
           "sequential": [
            [
             0,
             "#0d0887"
            ],
            [
             0.1111111111111111,
             "#46039f"
            ],
            [
             0.2222222222222222,
             "#7201a8"
            ],
            [
             0.3333333333333333,
             "#9c179e"
            ],
            [
             0.4444444444444444,
             "#bd3786"
            ],
            [
             0.5555555555555556,
             "#d8576b"
            ],
            [
             0.6666666666666666,
             "#ed7953"
            ],
            [
             0.7777777777777778,
             "#fb9f3a"
            ],
            [
             0.8888888888888888,
             "#fdca26"
            ],
            [
             1,
             "#f0f921"
            ]
           ],
           "sequentialminus": [
            [
             0,
             "#0d0887"
            ],
            [
             0.1111111111111111,
             "#46039f"
            ],
            [
             0.2222222222222222,
             "#7201a8"
            ],
            [
             0.3333333333333333,
             "#9c179e"
            ],
            [
             0.4444444444444444,
             "#bd3786"
            ],
            [
             0.5555555555555556,
             "#d8576b"
            ],
            [
             0.6666666666666666,
             "#ed7953"
            ],
            [
             0.7777777777777778,
             "#fb9f3a"
            ],
            [
             0.8888888888888888,
             "#fdca26"
            ],
            [
             1,
             "#f0f921"
            ]
           ]
          },
          "colorway": [
           "#636efa",
           "#EF553B",
           "#00cc96",
           "#ab63fa",
           "#FFA15A",
           "#19d3f3",
           "#FF6692",
           "#B6E880",
           "#FF97FF",
           "#FECB52"
          ],
          "font": {
           "color": "#2a3f5f"
          },
          "geo": {
           "bgcolor": "white",
           "lakecolor": "white",
           "landcolor": "#E5ECF6",
           "showlakes": true,
           "showland": true,
           "subunitcolor": "white"
          },
          "hoverlabel": {
           "align": "left"
          },
          "hovermode": "closest",
          "mapbox": {
           "style": "light"
          },
          "paper_bgcolor": "white",
          "plot_bgcolor": "#E5ECF6",
          "polar": {
           "angularaxis": {
            "gridcolor": "white",
            "linecolor": "white",
            "ticks": ""
           },
           "bgcolor": "#E5ECF6",
           "radialaxis": {
            "gridcolor": "white",
            "linecolor": "white",
            "ticks": ""
           }
          },
          "scene": {
           "xaxis": {
            "backgroundcolor": "#E5ECF6",
            "gridcolor": "white",
            "gridwidth": 2,
            "linecolor": "white",
            "showbackground": true,
            "ticks": "",
            "zerolinecolor": "white"
           },
           "yaxis": {
            "backgroundcolor": "#E5ECF6",
            "gridcolor": "white",
            "gridwidth": 2,
            "linecolor": "white",
            "showbackground": true,
            "ticks": "",
            "zerolinecolor": "white"
           },
           "zaxis": {
            "backgroundcolor": "#E5ECF6",
            "gridcolor": "white",
            "gridwidth": 2,
            "linecolor": "white",
            "showbackground": true,
            "ticks": "",
            "zerolinecolor": "white"
           }
          },
          "shapedefaults": {
           "line": {
            "color": "#2a3f5f"
           }
          },
          "ternary": {
           "aaxis": {
            "gridcolor": "white",
            "linecolor": "white",
            "ticks": ""
           },
           "baxis": {
            "gridcolor": "white",
            "linecolor": "white",
            "ticks": ""
           },
           "bgcolor": "#E5ECF6",
           "caxis": {
            "gridcolor": "white",
            "linecolor": "white",
            "ticks": ""
           }
          },
          "title": {
           "x": 0.05
          },
          "xaxis": {
           "automargin": true,
           "gridcolor": "white",
           "linecolor": "white",
           "ticks": "",
           "title": {
            "standoff": 15
           },
           "zerolinecolor": "white",
           "zerolinewidth": 2
          },
          "yaxis": {
           "automargin": true,
           "gridcolor": "white",
           "linecolor": "white",
           "ticks": "",
           "title": {
            "standoff": 15
           },
           "zerolinecolor": "white",
           "zerolinewidth": 2
          }
         }
        },
        "title": {
         "text": "Global CO2 Emissions Trend (1990-2020)"
        },
        "xaxis": {
         "anchor": "y",
         "domain": [
          0,
          1
         ],
         "title": {
          "text": "Year"
         }
        },
        "yaxis": {
         "anchor": "x",
         "domain": [
          0,
          1
         ],
         "title": {
          "text": "CO2 Emissions"
         }
        }
       }
      }
     },
     "metadata": {},
     "output_type": "display_data"
    }
   ],
   "source": [
    "# Import plotly for interactive visualizations\n",
    "import plotly.express as px\n",
    "\n",
    "# Create a line chart showing the global yearly CO2 emissions over time\n",
    "fig = px.line(annual_global_emissions, \n",
    "              x=\"Year\", \n",
    "              y=\"CO2 Emissions\", \n",
    "              title=\"Global CO2 Emissions Trend (1990-2020)\",\n",
    "              labels={\"Total CO2 Emissions\": \"Total CO2 Emissions (metric tons)\",\n",
    "                      \"Year\": \"Year\"},\n",
    "              line_shape=\"spline\",\n",
    "              hover_data={\"CO2 Emissions\": ':.2s'})\n",
    "\n",
    "# Customizing line color and adding markers\n",
    "fig.update_traces(line=dict(color='#b30000', width=2), mode='lines+markers')\n",
    "\n",
    "# Show line chart\n",
    "fig.show()"
   ]
  },
  {
   "cell_type": "markdown",
   "metadata": {},
   "source": [
    "We can see that global CO2 emissions have increased over time, with a particularly noticeable rise from the early 2000s until around 2010. Post-2010, the growth rate seems to plateau, with a slight decrease in the latter part of the decade, which could reflect various global efforts to reduce emissions or economic factors that may have influenced these trends.\n",
    "\n",
    "The decreases in global CO2 emissions observed in 2009 and 2020 coincide with the global financial crisis and the COVID-19 pandemic, respectively, each leading to reduced industrial activity and economic downturns."
   ]
  },
  {
   "cell_type": "markdown",
   "metadata": {},
   "source": [
    "## CO2 Emissions Geographical Distribution\n",
    "Here, we explore CO2 emissions from a geographical standpoint, visualizing total emissions by country. \n",
    "This provides insights into the global distribution of emissions and identifies the top contributing countries.\n",
    "\n",
    "### Data Processing for Map Visualization"
   ]
  },
  {
   "cell_type": "code",
   "execution_count": 3,
   "metadata": {},
   "outputs": [
    {
     "name": "stdout",
     "output_type": "stream",
     "text": [
      "          Country Name  CO2 Emissions\n",
      "0          Afghanistan   1.494529e+05\n",
      "1              Albania   1.203406e+05\n",
      "2              Algeria   3.278598e+06\n",
      "3              Andorra   1.503160e+04\n",
      "4               Angola   5.723800e+05\n",
      "5  Antigua and Barbuda   1.154570e+04\n",
      "6            Argentina   4.528824e+06\n",
      "7              Armenia   1.771098e+05\n",
      "8            Australia   1.087684e+07\n",
      "9              Austria   2.031100e+06\n"
     ]
    }
   ],
   "source": [
    "# Sum CO2 emmissions for each country across all years\n",
    "country_total_emissions = co2_data.groupby(\"Country Name\")[\"CO2 Emissions\"].sum().reset_index()\n",
    "print(country_total_emissions.head(10))"
   ]
  },
  {
   "cell_type": "markdown",
   "metadata": {},
   "source": [
    "### World Map Visualization\n"
   ]
  },
  {
   "cell_type": "code",
   "execution_count": 4,
   "metadata": {},
   "outputs": [
    {
     "data": {
      "application/vnd.plotly.v1+json": {
       "config": {
        "plotlyServerURL": "https://plot.ly"
       },
       "data": [
        {
         "coloraxis": "coloraxis",
         "customdata": [
          [
           149452.933
          ],
          [
           120340.6
          ],
          [
           3278598.5
          ],
          [
           15031.604399
          ],
          [
           572379.99
          ],
          [
           11545.7
          ],
          [
           4528824.4
          ],
          [
           177109.79
          ],
          [
           10876835.3
          ],
          [
           2031099.5
          ],
          [
           1014151.7
          ],
          [
           65836.1
          ],
          [
           659739.04
          ],
          [
           1286782.9
          ],
          [
           37939.34
          ],
          [
           1903412.4
          ],
          [
           3290356.9
          ],
          [
           15023
          ],
          [
           101717.26
          ],
          [
           18012.13
          ],
          [
           407074.6
          ],
          [
           519620.83
          ],
          [
           137978.3135
          ],
          [
           10698529.8
          ],
          [
           183069.1
          ],
          [
           1491656.8
          ],
          [
           62077.479999999996
          ],
          [
           9337.166
          ],
          [
           12482.800000000001
          ],
          [
           155642.57
          ],
          [
           198937.1
          ],
          [
           15939392.3
          ],
          [
           6092.3
          ],
          [
           27618.0749
          ],
          [
           1867707.7
          ],
          [
           191755756.2
          ],
          [
           2001078
          ],
          [
           4568.3
          ],
          [
           77301.02
          ],
          [
           135191.62900000002
          ],
          [
           190179.7
          ],
          [
           199155
          ],
          [
           562097.7
          ],
          [
           823341
          ],
          [
           215079.2
          ],
          [
           3646914.2
          ],
          [
           1538683.3
          ],
          [
           12394.25
          ],
          [
           4070
          ],
          [
           566097.8
          ],
          [
           903201.2
          ],
          [
           4954009.2
          ],
          [
           183777.2
          ],
          [
           118523.2
          ],
          [
           18212.39
          ],
          [
           543149.72
          ],
          [
           32856.8
          ],
          [
           219873
          ],
          [
           30778.23
          ],
          [
           1702531.4
          ],
          [
           10812121.9
          ],
          [
           171644.35
          ],
          [
           11513.6
          ],
          [
           273353.34
          ],
          [
           24971744.6
          ],
          [
           263322.26
          ],
          [
           2573052.1
          ],
          [
           7045.7
          ],
          [
           335737
          ],
          [
           63211.1
          ],
          [
           6885.4
          ],
          [
           54893.6186
          ],
          [
           60631.15
          ],
          [
           211657.3
          ],
          [
           1639333.7
          ],
          [
           62919.004
          ],
          [
           42045842
          ],
          [
           11078397.9
          ],
          [
           13552515.5
          ],
          [
           3292943.4
          ],
          [
           1194050.4
          ],
          [
           1794783.7
          ],
          [
           12373592.5
          ],
          [
           271374.3
          ],
          [
           36090686.7
          ],
          [
           574341
          ],
          [
           5987486.001
          ],
          [
           343154.6
          ],
          [
           1497.3
          ],
          [
           2014014.4
          ],
          [
           14948880.4
          ],
          [
           1941452.99
          ],
          [
           259762.3
          ],
          [
           140848.915207
          ],
          [
           273497.4
          ],
          [
           565565.99
          ],
          [
           60828
          ],
          [
           21694.8248
          ],
          [
           1450278.8
          ],
          [
           6114.941439
          ],
          [
           432946.2
          ],
          [
           309769.7
          ],
          [
           61266.369999999995
          ],
          [
           31686.268
          ],
          [
           4948345.1
          ],
          [
           24550.5
          ],
          [
           56899.656
          ],
          [
           71289
          ],
          [
           3492.4
          ],
          [
           55971.4
          ],
          [
           88174.2
          ],
          [
           12445192.6
          ],
          [
           4403.7
          ],
          [
           321648.2
          ],
          [
           421572.01
          ],
          [
           60774.42459
          ],
          [
           1357681.7
          ],
          [
           90216.013
          ],
          [
           388069.6
          ],
          [
           82397.7
          ],
          [
           2250.1
          ],
          [
           152868.98
          ],
          [
           4971229.037
          ],
          [
           928156.9
          ],
          [
           123756.3
          ],
          [
           34741.111
          ],
          [
           2970946
          ],
          [
           260006.2
          ],
          [
           1129059.8
          ],
          [
           1243921
          ],
          [
           3818703.6
          ],
          [
           6071.6
          ],
          [
           222206.7
          ],
          [
           130227.3
          ],
          [
           143841.2
          ],
          [
           1129228.4
          ],
          [
           2535401.6
          ],
          [
           9706328.8
          ],
          [
           1627378
          ],
          [
           1487410.5
          ],
          [
           2979801.5
          ],
          [
           51646893.1
          ],
          [
           23519.192
          ],
          [
           5346.5
          ],
          [
           2572.8
          ],
          [
           10939397.4
          ],
          [
           183328.9
          ],
          [
           1509137.7
          ],
          [
           11536.8
          ],
          [
           18642.7
          ],
          [
           1237931.9
          ],
          [
           1172970.3
          ],
          [
           455718.4
          ],
          [
           8286.7
          ],
          [
           18993.159
          ],
          [
           10996734.6
          ],
          [
           30300.627169
          ],
          [
           8363047.4
          ],
          [
           398416.1
          ],
          [
           6031.3
          ],
          [
           12517.3
          ],
          [
           6070.2
          ],
          [
           358599.62
          ],
          [
           61448.73057
          ],
          [
           1511711.9
          ],
          [
           1325243.7
          ],
          [
           1296263.9
          ],
          [
           134135.995
          ],
          [
           191207.4
          ],
          [
           6350568.1
          ],
          [
           6224.2
          ],
          [
           50729
          ],
          [
           3433.5
          ],
          [
           486979.2
          ],
          [
           734374.5
          ],
          [
           8077266.1
          ],
          [
           1522017.2
          ],
          [
           269.1
          ],
          [
           81491.395
          ],
          [
           9953303.6
          ],
          [
           3905361.1
          ],
          [
           15131217.2
          ],
          [
           162638318.1
          ],
          [
           183320.9
          ],
          [
           3589945.6
          ],
          [
           3153.9
          ],
          [
           4190782.9
          ],
          [
           3627165.1
          ],
          [
           494669.5
          ],
          [
           102941.33
          ],
          [
           383730.3
          ]
         ],
         "geo": "geo",
         "hovertemplate": "<b>%{hovertext}</b><br><br>Country Name=%{location}<br>CO2 Emissions=%{z:.2s}<extra></extra>",
         "hovertext": [
          "Afghanistan",
          "Albania",
          "Algeria",
          "Andorra",
          "Angola",
          "Antigua and Barbuda",
          "Argentina",
          "Armenia",
          "Australia",
          "Austria",
          "Azerbaijan",
          "Bahamas, The",
          "Bahrain",
          "Bangladesh",
          "Barbados",
          "Belarus",
          "Belgium",
          "Belize",
          "Benin",
          "Bhutan",
          "Bolivia",
          "Bosnia and Herzegovina",
          "Botswana",
          "Brazil",
          "Brunei Darussalam",
          "Bulgaria",
          "Burkina Faso",
          "Burundi",
          "Cabo Verde",
          "Cambodia",
          "Cameroon",
          "Canada",
          "Central African Republic",
          "Chad",
          "Chile",
          "China",
          "Colombia",
          "Comoros",
          "Congo, Dem. Rep.",
          "Congo, Rep.",
          "Costa Rica",
          "Cote d'Ivoire",
          "Croatia",
          "Cuba",
          "Cyprus",
          "Czechia",
          "Denmark",
          "Djibouti",
          "Dominica",
          "Dominican Republic",
          "Ecuador",
          "Egypt, Arab Rep.",
          "El Salvador",
          "Equatorial Guinea",
          "Eritrea",
          "Estonia",
          "Eswatini",
          "Ethiopia",
          "Fiji",
          "Finland",
          "France",
          "Gabon",
          "Gambia, The",
          "Georgia",
          "Germany",
          "Ghana",
          "Greece",
          "Grenada",
          "Guatemala",
          "Guinea",
          "Guinea-Bissau",
          "Guyana",
          "Haiti",
          "Honduras",
          "Hungary",
          "Iceland",
          "India",
          "Indonesia",
          "Iran, Islamic Rep.",
          "Iraq",
          "Ireland",
          "Israel",
          "Italy",
          "Jamaica",
          "Japan",
          "Jordan",
          "Kazakhstan",
          "Kenya",
          "Kiribati",
          "Korea, Dem. People's Rep.",
          "Korea, Rep.",
          "Kuwait",
          "Kyrgyz Republic",
          "Lao PDR",
          "Latvia",
          "Lebanon",
          "Lesotho",
          "Liberia",
          "Libya",
          "Liechtenstein",
          "Lithuania",
          "Luxembourg",
          "Madagascar",
          "Malawi",
          "Malaysia",
          "Maldives",
          "Mali",
          "Malta",
          "Marshall Islands",
          "Mauritania",
          "Mauritius",
          "Mexico",
          "Micronesia, Fed. Sts.",
          "Moldova",
          "Mongolia",
          "Montenegro",
          "Morocco",
          "Mozambique",
          "Myanmar",
          "Namibia",
          "Nauru",
          "Nepal",
          "Netherlands",
          "New Zealand",
          "Nicaragua",
          "Niger",
          "Nigeria",
          "North Macedonia",
          "Norway",
          "Oman",
          "Pakistan",
          "Palau",
          "Panama",
          "Papua New Guinea",
          "Paraguay",
          "Peru",
          "Philippines",
          "Poland",
          "Portugal",
          "Qatar",
          "Romania",
          "Russian Federation",
          "Rwanda",
          "Samoa",
          "Sao Tome and Principe",
          "Saudi Arabia",
          "Senegal",
          "Serbia",
          "Seychelles",
          "Sierra Leone",
          "Singapore",
          "Slovak Republic",
          "Slovenia",
          "Solomon Islands",
          "Somalia",
          "South Africa",
          "South Sudan",
          "Spain",
          "Sri Lanka",
          "St. Kitts and Nevis",
          "St. Lucia",
          "St. Vincent and the Grenadines",
          "Sudan",
          "Suriname",
          "Sweden",
          "Switzerland",
          "Syrian Arab Republic",
          "Tajikistan",
          "Tanzania",
          "Thailand",
          "Timor-Leste",
          "Togo",
          "Tonga",
          "Trinidad and Tobago",
          "Tunisia",
          "Turkiye",
          "Turkmenistan",
          "Tuvalu",
          "Uganda",
          "Ukraine",
          "United Arab Emirates",
          "United Kingdom",
          "United States",
          "Uruguay",
          "Uzbekistan",
          "Vanuatu",
          "Venezuela, RB",
          "Vietnam",
          "Yemen, Rep.",
          "Zambia",
          "Zimbabwe"
         ],
         "locationmode": "country names",
         "locations": [
          "Afghanistan",
          "Albania",
          "Algeria",
          "Andorra",
          "Angola",
          "Antigua and Barbuda",
          "Argentina",
          "Armenia",
          "Australia",
          "Austria",
          "Azerbaijan",
          "Bahamas, The",
          "Bahrain",
          "Bangladesh",
          "Barbados",
          "Belarus",
          "Belgium",
          "Belize",
          "Benin",
          "Bhutan",
          "Bolivia",
          "Bosnia and Herzegovina",
          "Botswana",
          "Brazil",
          "Brunei Darussalam",
          "Bulgaria",
          "Burkina Faso",
          "Burundi",
          "Cabo Verde",
          "Cambodia",
          "Cameroon",
          "Canada",
          "Central African Republic",
          "Chad",
          "Chile",
          "China",
          "Colombia",
          "Comoros",
          "Congo, Dem. Rep.",
          "Congo, Rep.",
          "Costa Rica",
          "Cote d'Ivoire",
          "Croatia",
          "Cuba",
          "Cyprus",
          "Czechia",
          "Denmark",
          "Djibouti",
          "Dominica",
          "Dominican Republic",
          "Ecuador",
          "Egypt, Arab Rep.",
          "El Salvador",
          "Equatorial Guinea",
          "Eritrea",
          "Estonia",
          "Eswatini",
          "Ethiopia",
          "Fiji",
          "Finland",
          "France",
          "Gabon",
          "Gambia, The",
          "Georgia",
          "Germany",
          "Ghana",
          "Greece",
          "Grenada",
          "Guatemala",
          "Guinea",
          "Guinea-Bissau",
          "Guyana",
          "Haiti",
          "Honduras",
          "Hungary",
          "Iceland",
          "India",
          "Indonesia",
          "Iran, Islamic Rep.",
          "Iraq",
          "Ireland",
          "Israel",
          "Italy",
          "Jamaica",
          "Japan",
          "Jordan",
          "Kazakhstan",
          "Kenya",
          "Kiribati",
          "Korea, Dem. People's Rep.",
          "Korea, Rep.",
          "Kuwait",
          "Kyrgyz Republic",
          "Lao PDR",
          "Latvia",
          "Lebanon",
          "Lesotho",
          "Liberia",
          "Libya",
          "Liechtenstein",
          "Lithuania",
          "Luxembourg",
          "Madagascar",
          "Malawi",
          "Malaysia",
          "Maldives",
          "Mali",
          "Malta",
          "Marshall Islands",
          "Mauritania",
          "Mauritius",
          "Mexico",
          "Micronesia, Fed. Sts.",
          "Moldova",
          "Mongolia",
          "Montenegro",
          "Morocco",
          "Mozambique",
          "Myanmar",
          "Namibia",
          "Nauru",
          "Nepal",
          "Netherlands",
          "New Zealand",
          "Nicaragua",
          "Niger",
          "Nigeria",
          "North Macedonia",
          "Norway",
          "Oman",
          "Pakistan",
          "Palau",
          "Panama",
          "Papua New Guinea",
          "Paraguay",
          "Peru",
          "Philippines",
          "Poland",
          "Portugal",
          "Qatar",
          "Romania",
          "Russian Federation",
          "Rwanda",
          "Samoa",
          "Sao Tome and Principe",
          "Saudi Arabia",
          "Senegal",
          "Serbia",
          "Seychelles",
          "Sierra Leone",
          "Singapore",
          "Slovak Republic",
          "Slovenia",
          "Solomon Islands",
          "Somalia",
          "South Africa",
          "South Sudan",
          "Spain",
          "Sri Lanka",
          "St. Kitts and Nevis",
          "St. Lucia",
          "St. Vincent and the Grenadines",
          "Sudan",
          "Suriname",
          "Sweden",
          "Switzerland",
          "Syrian Arab Republic",
          "Tajikistan",
          "Tanzania",
          "Thailand",
          "Timor-Leste",
          "Togo",
          "Tonga",
          "Trinidad and Tobago",
          "Tunisia",
          "Turkiye",
          "Turkmenistan",
          "Tuvalu",
          "Uganda",
          "Ukraine",
          "United Arab Emirates",
          "United Kingdom",
          "United States",
          "Uruguay",
          "Uzbekistan",
          "Vanuatu",
          "Venezuela, RB",
          "Vietnam",
          "Yemen, Rep.",
          "Zambia",
          "Zimbabwe"
         ],
         "name": "",
         "type": "choropleth",
         "z": [
          149452.933,
          120340.6,
          3278598.5,
          15031.604399,
          572379.99,
          11545.7,
          4528824.4,
          177109.79,
          10876835.3,
          2031099.5,
          1014151.7,
          65836.1,
          659739.04,
          1286782.9,
          37939.34,
          1903412.4,
          3290356.9,
          15023,
          101717.26,
          18012.13,
          407074.6,
          519620.83,
          137978.3135,
          10698529.8,
          183069.1,
          1491656.8,
          62077.479999999996,
          9337.166,
          12482.800000000001,
          155642.57,
          198937.1,
          15939392.3,
          6092.3,
          27618.0749,
          1867707.7,
          191755756.2,
          2001078,
          4568.3,
          77301.02,
          135191.62900000002,
          190179.7,
          199155,
          562097.7,
          823341,
          215079.2,
          3646914.2,
          1538683.3,
          12394.25,
          4070,
          566097.8,
          903201.2,
          4954009.2,
          183777.2,
          118523.2,
          18212.39,
          543149.72,
          32856.8,
          219873,
          30778.23,
          1702531.4,
          10812121.9,
          171644.35,
          11513.6,
          273353.34,
          24971744.6,
          263322.26,
          2573052.1,
          7045.7,
          335737,
          63211.1,
          6885.4,
          54893.6186,
          60631.15,
          211657.3,
          1639333.7,
          62919.004,
          42045842,
          11078397.9,
          13552515.5,
          3292943.4,
          1194050.4,
          1794783.7,
          12373592.5,
          271374.3,
          36090686.7,
          574341,
          5987486.001,
          343154.6,
          1497.3,
          2014014.4,
          14948880.4,
          1941452.99,
          259762.3,
          140848.915207,
          273497.4,
          565565.99,
          60828,
          21694.8248,
          1450278.8,
          6114.941439,
          432946.2,
          309769.7,
          61266.369999999995,
          31686.268,
          4948345.1,
          24550.5,
          56899.656,
          71289,
          3492.4,
          55971.4,
          88174.2,
          12445192.6,
          4403.7,
          321648.2,
          421572.01,
          60774.42459,
          1357681.7,
          90216.013,
          388069.6,
          82397.7,
          2250.1,
          152868.98,
          4971229.037,
          928156.9,
          123756.3,
          34741.111,
          2970946,
          260006.2,
          1129059.8,
          1243921,
          3818703.6,
          6071.6,
          222206.7,
          130227.3,
          143841.2,
          1129228.4,
          2535401.6,
          9706328.8,
          1627378,
          1487410.5,
          2979801.5,
          51646893.1,
          23519.192,
          5346.5,
          2572.8,
          10939397.4,
          183328.9,
          1509137.7,
          11536.8,
          18642.7,
          1237931.9,
          1172970.3,
          455718.4,
          8286.7,
          18993.159,
          10996734.6,
          30300.627169,
          8363047.4,
          398416.1,
          6031.3,
          12517.3,
          6070.2,
          358599.62,
          61448.73057,
          1511711.9,
          1325243.7,
          1296263.9,
          134135.995,
          191207.4,
          6350568.1,
          6224.2,
          50729,
          3433.5,
          486979.2,
          734374.5,
          8077266.1,
          1522017.2,
          269.1,
          81491.395,
          9953303.6,
          3905361.1,
          15131217.2,
          162638318.1,
          183320.9,
          3589945.6,
          3153.9,
          4190782.9,
          3627165.1,
          494669.5,
          102941.33,
          383730.3
         ]
        }
       ],
       "layout": {
        "coloraxis": {
         "colorbar": {
          "title": {
           "text": "CO2 Emissions"
          }
         },
         "colorscale": [
          [
           0,
           "rgb(0,104,55)"
          ],
          [
           0.1,
           "rgb(26,152,80)"
          ],
          [
           0.2,
           "rgb(102,189,99)"
          ],
          [
           0.3,
           "rgb(166,217,106)"
          ],
          [
           0.4,
           "rgb(217,239,139)"
          ],
          [
           0.5,
           "rgb(255,255,191)"
          ],
          [
           0.6,
           "rgb(254,224,139)"
          ],
          [
           0.7,
           "rgb(253,174,97)"
          ],
          [
           0.8,
           "rgb(244,109,67)"
          ],
          [
           0.9,
           "rgb(215,48,39)"
          ],
          [
           1,
           "rgb(165,0,38)"
          ]
         ]
        },
        "geo": {
         "center": {},
         "domain": {
          "x": [
           0,
           1
          ],
          "y": [
           0,
           1
          ]
         }
        },
        "legend": {
         "tracegroupgap": 0
        },
        "template": {
         "data": {
          "bar": [
           {
            "error_x": {
             "color": "#2a3f5f"
            },
            "error_y": {
             "color": "#2a3f5f"
            },
            "marker": {
             "line": {
              "color": "#E5ECF6",
              "width": 0.5
             },
             "pattern": {
              "fillmode": "overlay",
              "size": 10,
              "solidity": 0.2
             }
            },
            "type": "bar"
           }
          ],
          "barpolar": [
           {
            "marker": {
             "line": {
              "color": "#E5ECF6",
              "width": 0.5
             },
             "pattern": {
              "fillmode": "overlay",
              "size": 10,
              "solidity": 0.2
             }
            },
            "type": "barpolar"
           }
          ],
          "carpet": [
           {
            "aaxis": {
             "endlinecolor": "#2a3f5f",
             "gridcolor": "white",
             "linecolor": "white",
             "minorgridcolor": "white",
             "startlinecolor": "#2a3f5f"
            },
            "baxis": {
             "endlinecolor": "#2a3f5f",
             "gridcolor": "white",
             "linecolor": "white",
             "minorgridcolor": "white",
             "startlinecolor": "#2a3f5f"
            },
            "type": "carpet"
           }
          ],
          "choropleth": [
           {
            "colorbar": {
             "outlinewidth": 0,
             "ticks": ""
            },
            "type": "choropleth"
           }
          ],
          "contour": [
           {
            "colorbar": {
             "outlinewidth": 0,
             "ticks": ""
            },
            "colorscale": [
             [
              0,
              "#0d0887"
             ],
             [
              0.1111111111111111,
              "#46039f"
             ],
             [
              0.2222222222222222,
              "#7201a8"
             ],
             [
              0.3333333333333333,
              "#9c179e"
             ],
             [
              0.4444444444444444,
              "#bd3786"
             ],
             [
              0.5555555555555556,
              "#d8576b"
             ],
             [
              0.6666666666666666,
              "#ed7953"
             ],
             [
              0.7777777777777778,
              "#fb9f3a"
             ],
             [
              0.8888888888888888,
              "#fdca26"
             ],
             [
              1,
              "#f0f921"
             ]
            ],
            "type": "contour"
           }
          ],
          "contourcarpet": [
           {
            "colorbar": {
             "outlinewidth": 0,
             "ticks": ""
            },
            "type": "contourcarpet"
           }
          ],
          "heatmap": [
           {
            "colorbar": {
             "outlinewidth": 0,
             "ticks": ""
            },
            "colorscale": [
             [
              0,
              "#0d0887"
             ],
             [
              0.1111111111111111,
              "#46039f"
             ],
             [
              0.2222222222222222,
              "#7201a8"
             ],
             [
              0.3333333333333333,
              "#9c179e"
             ],
             [
              0.4444444444444444,
              "#bd3786"
             ],
             [
              0.5555555555555556,
              "#d8576b"
             ],
             [
              0.6666666666666666,
              "#ed7953"
             ],
             [
              0.7777777777777778,
              "#fb9f3a"
             ],
             [
              0.8888888888888888,
              "#fdca26"
             ],
             [
              1,
              "#f0f921"
             ]
            ],
            "type": "heatmap"
           }
          ],
          "heatmapgl": [
           {
            "colorbar": {
             "outlinewidth": 0,
             "ticks": ""
            },
            "colorscale": [
             [
              0,
              "#0d0887"
             ],
             [
              0.1111111111111111,
              "#46039f"
             ],
             [
              0.2222222222222222,
              "#7201a8"
             ],
             [
              0.3333333333333333,
              "#9c179e"
             ],
             [
              0.4444444444444444,
              "#bd3786"
             ],
             [
              0.5555555555555556,
              "#d8576b"
             ],
             [
              0.6666666666666666,
              "#ed7953"
             ],
             [
              0.7777777777777778,
              "#fb9f3a"
             ],
             [
              0.8888888888888888,
              "#fdca26"
             ],
             [
              1,
              "#f0f921"
             ]
            ],
            "type": "heatmapgl"
           }
          ],
          "histogram": [
           {
            "marker": {
             "pattern": {
              "fillmode": "overlay",
              "size": 10,
              "solidity": 0.2
             }
            },
            "type": "histogram"
           }
          ],
          "histogram2d": [
           {
            "colorbar": {
             "outlinewidth": 0,
             "ticks": ""
            },
            "colorscale": [
             [
              0,
              "#0d0887"
             ],
             [
              0.1111111111111111,
              "#46039f"
             ],
             [
              0.2222222222222222,
              "#7201a8"
             ],
             [
              0.3333333333333333,
              "#9c179e"
             ],
             [
              0.4444444444444444,
              "#bd3786"
             ],
             [
              0.5555555555555556,
              "#d8576b"
             ],
             [
              0.6666666666666666,
              "#ed7953"
             ],
             [
              0.7777777777777778,
              "#fb9f3a"
             ],
             [
              0.8888888888888888,
              "#fdca26"
             ],
             [
              1,
              "#f0f921"
             ]
            ],
            "type": "histogram2d"
           }
          ],
          "histogram2dcontour": [
           {
            "colorbar": {
             "outlinewidth": 0,
             "ticks": ""
            },
            "colorscale": [
             [
              0,
              "#0d0887"
             ],
             [
              0.1111111111111111,
              "#46039f"
             ],
             [
              0.2222222222222222,
              "#7201a8"
             ],
             [
              0.3333333333333333,
              "#9c179e"
             ],
             [
              0.4444444444444444,
              "#bd3786"
             ],
             [
              0.5555555555555556,
              "#d8576b"
             ],
             [
              0.6666666666666666,
              "#ed7953"
             ],
             [
              0.7777777777777778,
              "#fb9f3a"
             ],
             [
              0.8888888888888888,
              "#fdca26"
             ],
             [
              1,
              "#f0f921"
             ]
            ],
            "type": "histogram2dcontour"
           }
          ],
          "mesh3d": [
           {
            "colorbar": {
             "outlinewidth": 0,
             "ticks": ""
            },
            "type": "mesh3d"
           }
          ],
          "parcoords": [
           {
            "line": {
             "colorbar": {
              "outlinewidth": 0,
              "ticks": ""
             }
            },
            "type": "parcoords"
           }
          ],
          "pie": [
           {
            "automargin": true,
            "type": "pie"
           }
          ],
          "scatter": [
           {
            "fillpattern": {
             "fillmode": "overlay",
             "size": 10,
             "solidity": 0.2
            },
            "type": "scatter"
           }
          ],
          "scatter3d": [
           {
            "line": {
             "colorbar": {
              "outlinewidth": 0,
              "ticks": ""
             }
            },
            "marker": {
             "colorbar": {
              "outlinewidth": 0,
              "ticks": ""
             }
            },
            "type": "scatter3d"
           }
          ],
          "scattercarpet": [
           {
            "marker": {
             "colorbar": {
              "outlinewidth": 0,
              "ticks": ""
             }
            },
            "type": "scattercarpet"
           }
          ],
          "scattergeo": [
           {
            "marker": {
             "colorbar": {
              "outlinewidth": 0,
              "ticks": ""
             }
            },
            "type": "scattergeo"
           }
          ],
          "scattergl": [
           {
            "marker": {
             "colorbar": {
              "outlinewidth": 0,
              "ticks": ""
             }
            },
            "type": "scattergl"
           }
          ],
          "scattermapbox": [
           {
            "marker": {
             "colorbar": {
              "outlinewidth": 0,
              "ticks": ""
             }
            },
            "type": "scattermapbox"
           }
          ],
          "scatterpolar": [
           {
            "marker": {
             "colorbar": {
              "outlinewidth": 0,
              "ticks": ""
             }
            },
            "type": "scatterpolar"
           }
          ],
          "scatterpolargl": [
           {
            "marker": {
             "colorbar": {
              "outlinewidth": 0,
              "ticks": ""
             }
            },
            "type": "scatterpolargl"
           }
          ],
          "scatterternary": [
           {
            "marker": {
             "colorbar": {
              "outlinewidth": 0,
              "ticks": ""
             }
            },
            "type": "scatterternary"
           }
          ],
          "surface": [
           {
            "colorbar": {
             "outlinewidth": 0,
             "ticks": ""
            },
            "colorscale": [
             [
              0,
              "#0d0887"
             ],
             [
              0.1111111111111111,
              "#46039f"
             ],
             [
              0.2222222222222222,
              "#7201a8"
             ],
             [
              0.3333333333333333,
              "#9c179e"
             ],
             [
              0.4444444444444444,
              "#bd3786"
             ],
             [
              0.5555555555555556,
              "#d8576b"
             ],
             [
              0.6666666666666666,
              "#ed7953"
             ],
             [
              0.7777777777777778,
              "#fb9f3a"
             ],
             [
              0.8888888888888888,
              "#fdca26"
             ],
             [
              1,
              "#f0f921"
             ]
            ],
            "type": "surface"
           }
          ],
          "table": [
           {
            "cells": {
             "fill": {
              "color": "#EBF0F8"
             },
             "line": {
              "color": "white"
             }
            },
            "header": {
             "fill": {
              "color": "#C8D4E3"
             },
             "line": {
              "color": "white"
             }
            },
            "type": "table"
           }
          ]
         },
         "layout": {
          "annotationdefaults": {
           "arrowcolor": "#2a3f5f",
           "arrowhead": 0,
           "arrowwidth": 1
          },
          "autotypenumbers": "strict",
          "coloraxis": {
           "colorbar": {
            "outlinewidth": 0,
            "ticks": ""
           }
          },
          "colorscale": {
           "diverging": [
            [
             0,
             "#8e0152"
            ],
            [
             0.1,
             "#c51b7d"
            ],
            [
             0.2,
             "#de77ae"
            ],
            [
             0.3,
             "#f1b6da"
            ],
            [
             0.4,
             "#fde0ef"
            ],
            [
             0.5,
             "#f7f7f7"
            ],
            [
             0.6,
             "#e6f5d0"
            ],
            [
             0.7,
             "#b8e186"
            ],
            [
             0.8,
             "#7fbc41"
            ],
            [
             0.9,
             "#4d9221"
            ],
            [
             1,
             "#276419"
            ]
           ],
           "sequential": [
            [
             0,
             "#0d0887"
            ],
            [
             0.1111111111111111,
             "#46039f"
            ],
            [
             0.2222222222222222,
             "#7201a8"
            ],
            [
             0.3333333333333333,
             "#9c179e"
            ],
            [
             0.4444444444444444,
             "#bd3786"
            ],
            [
             0.5555555555555556,
             "#d8576b"
            ],
            [
             0.6666666666666666,
             "#ed7953"
            ],
            [
             0.7777777777777778,
             "#fb9f3a"
            ],
            [
             0.8888888888888888,
             "#fdca26"
            ],
            [
             1,
             "#f0f921"
            ]
           ],
           "sequentialminus": [
            [
             0,
             "#0d0887"
            ],
            [
             0.1111111111111111,
             "#46039f"
            ],
            [
             0.2222222222222222,
             "#7201a8"
            ],
            [
             0.3333333333333333,
             "#9c179e"
            ],
            [
             0.4444444444444444,
             "#bd3786"
            ],
            [
             0.5555555555555556,
             "#d8576b"
            ],
            [
             0.6666666666666666,
             "#ed7953"
            ],
            [
             0.7777777777777778,
             "#fb9f3a"
            ],
            [
             0.8888888888888888,
             "#fdca26"
            ],
            [
             1,
             "#f0f921"
            ]
           ]
          },
          "colorway": [
           "#636efa",
           "#EF553B",
           "#00cc96",
           "#ab63fa",
           "#FFA15A",
           "#19d3f3",
           "#FF6692",
           "#B6E880",
           "#FF97FF",
           "#FECB52"
          ],
          "font": {
           "color": "#2a3f5f"
          },
          "geo": {
           "bgcolor": "white",
           "lakecolor": "white",
           "landcolor": "#E5ECF6",
           "showlakes": true,
           "showland": true,
           "subunitcolor": "white"
          },
          "hoverlabel": {
           "align": "left"
          },
          "hovermode": "closest",
          "mapbox": {
           "style": "light"
          },
          "paper_bgcolor": "white",
          "plot_bgcolor": "#E5ECF6",
          "polar": {
           "angularaxis": {
            "gridcolor": "white",
            "linecolor": "white",
            "ticks": ""
           },
           "bgcolor": "#E5ECF6",
           "radialaxis": {
            "gridcolor": "white",
            "linecolor": "white",
            "ticks": ""
           }
          },
          "scene": {
           "xaxis": {
            "backgroundcolor": "#E5ECF6",
            "gridcolor": "white",
            "gridwidth": 2,
            "linecolor": "white",
            "showbackground": true,
            "ticks": "",
            "zerolinecolor": "white"
           },
           "yaxis": {
            "backgroundcolor": "#E5ECF6",
            "gridcolor": "white",
            "gridwidth": 2,
            "linecolor": "white",
            "showbackground": true,
            "ticks": "",
            "zerolinecolor": "white"
           },
           "zaxis": {
            "backgroundcolor": "#E5ECF6",
            "gridcolor": "white",
            "gridwidth": 2,
            "linecolor": "white",
            "showbackground": true,
            "ticks": "",
            "zerolinecolor": "white"
           }
          },
          "shapedefaults": {
           "line": {
            "color": "#2a3f5f"
           }
          },
          "ternary": {
           "aaxis": {
            "gridcolor": "white",
            "linecolor": "white",
            "ticks": ""
           },
           "baxis": {
            "gridcolor": "white",
            "linecolor": "white",
            "ticks": ""
           },
           "bgcolor": "#E5ECF6",
           "caxis": {
            "gridcolor": "white",
            "linecolor": "white",
            "ticks": ""
           }
          },
          "title": {
           "x": 0.05
          },
          "xaxis": {
           "automargin": true,
           "gridcolor": "white",
           "linecolor": "white",
           "ticks": "",
           "title": {
            "standoff": 15
           },
           "zerolinecolor": "white",
           "zerolinewidth": 2
          },
          "yaxis": {
           "automargin": true,
           "gridcolor": "white",
           "linecolor": "white",
           "ticks": "",
           "title": {
            "standoff": 15
           },
           "zerolinecolor": "white",
           "zerolinewidth": 2
          }
         }
        },
        "title": {
         "text": "Total CO2 Emissions by Country (1990-2020)"
        }
       }
      }
     },
     "metadata": {},
     "output_type": "display_data"
    }
   ],
   "source": [
    "# Create an interactive world map of CO2 emissions by country\n",
    "fig = px.choropleth(country_total_emissions,\n",
    "                    locations=\"Country Name\",\n",
    "                    locationmode=\"country names\",\n",
    "                    color=\"CO2 Emissions\",\n",
    "                    hover_name=\"Country Name\",\n",
    "                    color_continuous_scale=px.colors.diverging.RdYlGn_r,\n",
    "                    title=\"Total CO2 Emissions by Country (1990-2020)\",\n",
    "                    hover_data={\"CO2 Emissions\": ':.2s'})\n",
    "\n",
    "# Show the visualization\n",
    "fig.show()"
   ]
  },
  {
   "cell_type": "markdown",
   "metadata": {},
   "source": [
    "The map visualization presents total CO2 emissions by country from 1990 to 2020, with varying color intensities indicating the level of emissions. Countries with darker hues are the highest emitters, showing a clear distribution of global emissions with significant contributions from United States and China."
   ]
  },
  {
   "cell_type": "markdown",
   "metadata": {},
   "source": [
    "## Top 10 CO2 Emissions Contributors\n",
    "We identify the top 10 countries with the highest cumulative CO2 emissions from 1990 to 2020 and chart their total emissions over this time period to illustrate their significant roles in global emissions.\n",
    "\n",
    "### Data Preparation"
   ]
  },
  {
   "cell_type": "code",
   "execution_count": 5,
   "metadata": {},
   "outputs": [
    {
     "name": "stdout",
     "output_type": "stream",
     "text": [
      "         Country Name  CO2 Emissions\n",
      "0               China    191755756.2\n",
      "1       United States    162638318.1\n",
      "2  Russian Federation     51646893.1\n",
      "3               India     42045842.0\n",
      "4               Japan     36090686.7\n",
      "5             Germany     24971744.6\n",
      "6              Canada     15939392.3\n",
      "7      United Kingdom     15131217.2\n",
      "8         Korea, Rep.     14948880.4\n",
      "9  Iran, Islamic Rep.     13552515.5\n"
     ]
    }
   ],
   "source": [
    "# Identify the top 10 emitting countries over the entire period\n",
    "top_emitters = co2_data.groupby('Country Name')['CO2 Emissions'].sum().nlargest(10).reset_index()\n",
    "print(top_emitters.head(10))"
   ]
  },
  {
   "cell_type": "markdown",
   "metadata": {},
   "source": [
    "### Bar Chart"
   ]
  },
  {
   "cell_type": "code",
   "execution_count": 6,
   "metadata": {},
   "outputs": [
    {
     "data": {
      "application/vnd.plotly.v1+json": {
       "config": {
        "plotlyServerURL": "https://plot.ly"
       },
       "data": [
        {
         "alignmentgroup": "True",
         "hovertemplate": "Country Name=%{x}<br>Total CO2 Emissions (metric tons)=%{marker.color:.2s}<extra></extra>",
         "legendgroup": "",
         "marker": {
          "color": [
           191755756.2,
           162638318.1,
           51646893.1,
           42045842,
           36090686.7,
           24971744.6,
           15939392.3,
           15131217.2,
           14948880.4,
           13552515.5
          ],
          "coloraxis": "coloraxis",
          "pattern": {
           "shape": ""
          }
         },
         "name": "",
         "offsetgroup": "",
         "orientation": "v",
         "showlegend": false,
         "text": [
          191755756.2,
          162638318.1,
          51646893.1,
          42045842,
          36090686.7,
          24971744.6,
          15939392.3,
          15131217.2,
          14948880.4,
          13552515.5
         ],
         "textposition": "outside",
         "texttemplate": "%{text:.2s}",
         "type": "bar",
         "x": [
          "China",
          "United States",
          "Russian Federation",
          "India",
          "Japan",
          "Germany",
          "Canada",
          "United Kingdom",
          "Korea, Rep.",
          "Iran, Islamic Rep."
         ],
         "xaxis": "x",
         "y": [
          191755756.2,
          162638318.1,
          51646893.1,
          42045842,
          36090686.7,
          24971744.6,
          15939392.3,
          15131217.2,
          14948880.4,
          13552515.5
         ],
         "yaxis": "y"
        }
       ],
       "layout": {
        "barmode": "relative",
        "coloraxis": {
         "colorbar": {
          "title": {
           "text": "Total CO2 Emissions (metric tons)"
          }
         },
         "colorscale": [
          [
           0,
           "rgb(0,104,55)"
          ],
          [
           0.1,
           "rgb(26,152,80)"
          ],
          [
           0.2,
           "rgb(102,189,99)"
          ],
          [
           0.3,
           "rgb(166,217,106)"
          ],
          [
           0.4,
           "rgb(217,239,139)"
          ],
          [
           0.5,
           "rgb(255,255,191)"
          ],
          [
           0.6,
           "rgb(254,224,139)"
          ],
          [
           0.7,
           "rgb(253,174,97)"
          ],
          [
           0.8,
           "rgb(244,109,67)"
          ],
          [
           0.9,
           "rgb(215,48,39)"
          ],
          [
           1,
           "rgb(165,0,38)"
          ]
         ],
         "showscale": false
        },
        "legend": {
         "tracegroupgap": 0
        },
        "template": {
         "data": {
          "bar": [
           {
            "error_x": {
             "color": "#2a3f5f"
            },
            "error_y": {
             "color": "#2a3f5f"
            },
            "marker": {
             "line": {
              "color": "#E5ECF6",
              "width": 0.5
             },
             "pattern": {
              "fillmode": "overlay",
              "size": 10,
              "solidity": 0.2
             }
            },
            "type": "bar"
           }
          ],
          "barpolar": [
           {
            "marker": {
             "line": {
              "color": "#E5ECF6",
              "width": 0.5
             },
             "pattern": {
              "fillmode": "overlay",
              "size": 10,
              "solidity": 0.2
             }
            },
            "type": "barpolar"
           }
          ],
          "carpet": [
           {
            "aaxis": {
             "endlinecolor": "#2a3f5f",
             "gridcolor": "white",
             "linecolor": "white",
             "minorgridcolor": "white",
             "startlinecolor": "#2a3f5f"
            },
            "baxis": {
             "endlinecolor": "#2a3f5f",
             "gridcolor": "white",
             "linecolor": "white",
             "minorgridcolor": "white",
             "startlinecolor": "#2a3f5f"
            },
            "type": "carpet"
           }
          ],
          "choropleth": [
           {
            "colorbar": {
             "outlinewidth": 0,
             "ticks": ""
            },
            "type": "choropleth"
           }
          ],
          "contour": [
           {
            "colorbar": {
             "outlinewidth": 0,
             "ticks": ""
            },
            "colorscale": [
             [
              0,
              "#0d0887"
             ],
             [
              0.1111111111111111,
              "#46039f"
             ],
             [
              0.2222222222222222,
              "#7201a8"
             ],
             [
              0.3333333333333333,
              "#9c179e"
             ],
             [
              0.4444444444444444,
              "#bd3786"
             ],
             [
              0.5555555555555556,
              "#d8576b"
             ],
             [
              0.6666666666666666,
              "#ed7953"
             ],
             [
              0.7777777777777778,
              "#fb9f3a"
             ],
             [
              0.8888888888888888,
              "#fdca26"
             ],
             [
              1,
              "#f0f921"
             ]
            ],
            "type": "contour"
           }
          ],
          "contourcarpet": [
           {
            "colorbar": {
             "outlinewidth": 0,
             "ticks": ""
            },
            "type": "contourcarpet"
           }
          ],
          "heatmap": [
           {
            "colorbar": {
             "outlinewidth": 0,
             "ticks": ""
            },
            "colorscale": [
             [
              0,
              "#0d0887"
             ],
             [
              0.1111111111111111,
              "#46039f"
             ],
             [
              0.2222222222222222,
              "#7201a8"
             ],
             [
              0.3333333333333333,
              "#9c179e"
             ],
             [
              0.4444444444444444,
              "#bd3786"
             ],
             [
              0.5555555555555556,
              "#d8576b"
             ],
             [
              0.6666666666666666,
              "#ed7953"
             ],
             [
              0.7777777777777778,
              "#fb9f3a"
             ],
             [
              0.8888888888888888,
              "#fdca26"
             ],
             [
              1,
              "#f0f921"
             ]
            ],
            "type": "heatmap"
           }
          ],
          "heatmapgl": [
           {
            "colorbar": {
             "outlinewidth": 0,
             "ticks": ""
            },
            "colorscale": [
             [
              0,
              "#0d0887"
             ],
             [
              0.1111111111111111,
              "#46039f"
             ],
             [
              0.2222222222222222,
              "#7201a8"
             ],
             [
              0.3333333333333333,
              "#9c179e"
             ],
             [
              0.4444444444444444,
              "#bd3786"
             ],
             [
              0.5555555555555556,
              "#d8576b"
             ],
             [
              0.6666666666666666,
              "#ed7953"
             ],
             [
              0.7777777777777778,
              "#fb9f3a"
             ],
             [
              0.8888888888888888,
              "#fdca26"
             ],
             [
              1,
              "#f0f921"
             ]
            ],
            "type": "heatmapgl"
           }
          ],
          "histogram": [
           {
            "marker": {
             "pattern": {
              "fillmode": "overlay",
              "size": 10,
              "solidity": 0.2
             }
            },
            "type": "histogram"
           }
          ],
          "histogram2d": [
           {
            "colorbar": {
             "outlinewidth": 0,
             "ticks": ""
            },
            "colorscale": [
             [
              0,
              "#0d0887"
             ],
             [
              0.1111111111111111,
              "#46039f"
             ],
             [
              0.2222222222222222,
              "#7201a8"
             ],
             [
              0.3333333333333333,
              "#9c179e"
             ],
             [
              0.4444444444444444,
              "#bd3786"
             ],
             [
              0.5555555555555556,
              "#d8576b"
             ],
             [
              0.6666666666666666,
              "#ed7953"
             ],
             [
              0.7777777777777778,
              "#fb9f3a"
             ],
             [
              0.8888888888888888,
              "#fdca26"
             ],
             [
              1,
              "#f0f921"
             ]
            ],
            "type": "histogram2d"
           }
          ],
          "histogram2dcontour": [
           {
            "colorbar": {
             "outlinewidth": 0,
             "ticks": ""
            },
            "colorscale": [
             [
              0,
              "#0d0887"
             ],
             [
              0.1111111111111111,
              "#46039f"
             ],
             [
              0.2222222222222222,
              "#7201a8"
             ],
             [
              0.3333333333333333,
              "#9c179e"
             ],
             [
              0.4444444444444444,
              "#bd3786"
             ],
             [
              0.5555555555555556,
              "#d8576b"
             ],
             [
              0.6666666666666666,
              "#ed7953"
             ],
             [
              0.7777777777777778,
              "#fb9f3a"
             ],
             [
              0.8888888888888888,
              "#fdca26"
             ],
             [
              1,
              "#f0f921"
             ]
            ],
            "type": "histogram2dcontour"
           }
          ],
          "mesh3d": [
           {
            "colorbar": {
             "outlinewidth": 0,
             "ticks": ""
            },
            "type": "mesh3d"
           }
          ],
          "parcoords": [
           {
            "line": {
             "colorbar": {
              "outlinewidth": 0,
              "ticks": ""
             }
            },
            "type": "parcoords"
           }
          ],
          "pie": [
           {
            "automargin": true,
            "type": "pie"
           }
          ],
          "scatter": [
           {
            "fillpattern": {
             "fillmode": "overlay",
             "size": 10,
             "solidity": 0.2
            },
            "type": "scatter"
           }
          ],
          "scatter3d": [
           {
            "line": {
             "colorbar": {
              "outlinewidth": 0,
              "ticks": ""
             }
            },
            "marker": {
             "colorbar": {
              "outlinewidth": 0,
              "ticks": ""
             }
            },
            "type": "scatter3d"
           }
          ],
          "scattercarpet": [
           {
            "marker": {
             "colorbar": {
              "outlinewidth": 0,
              "ticks": ""
             }
            },
            "type": "scattercarpet"
           }
          ],
          "scattergeo": [
           {
            "marker": {
             "colorbar": {
              "outlinewidth": 0,
              "ticks": ""
             }
            },
            "type": "scattergeo"
           }
          ],
          "scattergl": [
           {
            "marker": {
             "colorbar": {
              "outlinewidth": 0,
              "ticks": ""
             }
            },
            "type": "scattergl"
           }
          ],
          "scattermapbox": [
           {
            "marker": {
             "colorbar": {
              "outlinewidth": 0,
              "ticks": ""
             }
            },
            "type": "scattermapbox"
           }
          ],
          "scatterpolar": [
           {
            "marker": {
             "colorbar": {
              "outlinewidth": 0,
              "ticks": ""
             }
            },
            "type": "scatterpolar"
           }
          ],
          "scatterpolargl": [
           {
            "marker": {
             "colorbar": {
              "outlinewidth": 0,
              "ticks": ""
             }
            },
            "type": "scatterpolargl"
           }
          ],
          "scatterternary": [
           {
            "marker": {
             "colorbar": {
              "outlinewidth": 0,
              "ticks": ""
             }
            },
            "type": "scatterternary"
           }
          ],
          "surface": [
           {
            "colorbar": {
             "outlinewidth": 0,
             "ticks": ""
            },
            "colorscale": [
             [
              0,
              "#0d0887"
             ],
             [
              0.1111111111111111,
              "#46039f"
             ],
             [
              0.2222222222222222,
              "#7201a8"
             ],
             [
              0.3333333333333333,
              "#9c179e"
             ],
             [
              0.4444444444444444,
              "#bd3786"
             ],
             [
              0.5555555555555556,
              "#d8576b"
             ],
             [
              0.6666666666666666,
              "#ed7953"
             ],
             [
              0.7777777777777778,
              "#fb9f3a"
             ],
             [
              0.8888888888888888,
              "#fdca26"
             ],
             [
              1,
              "#f0f921"
             ]
            ],
            "type": "surface"
           }
          ],
          "table": [
           {
            "cells": {
             "fill": {
              "color": "#EBF0F8"
             },
             "line": {
              "color": "white"
             }
            },
            "header": {
             "fill": {
              "color": "#C8D4E3"
             },
             "line": {
              "color": "white"
             }
            },
            "type": "table"
           }
          ]
         },
         "layout": {
          "annotationdefaults": {
           "arrowcolor": "#2a3f5f",
           "arrowhead": 0,
           "arrowwidth": 1
          },
          "autotypenumbers": "strict",
          "coloraxis": {
           "colorbar": {
            "outlinewidth": 0,
            "ticks": ""
           }
          },
          "colorscale": {
           "diverging": [
            [
             0,
             "#8e0152"
            ],
            [
             0.1,
             "#c51b7d"
            ],
            [
             0.2,
             "#de77ae"
            ],
            [
             0.3,
             "#f1b6da"
            ],
            [
             0.4,
             "#fde0ef"
            ],
            [
             0.5,
             "#f7f7f7"
            ],
            [
             0.6,
             "#e6f5d0"
            ],
            [
             0.7,
             "#b8e186"
            ],
            [
             0.8,
             "#7fbc41"
            ],
            [
             0.9,
             "#4d9221"
            ],
            [
             1,
             "#276419"
            ]
           ],
           "sequential": [
            [
             0,
             "#0d0887"
            ],
            [
             0.1111111111111111,
             "#46039f"
            ],
            [
             0.2222222222222222,
             "#7201a8"
            ],
            [
             0.3333333333333333,
             "#9c179e"
            ],
            [
             0.4444444444444444,
             "#bd3786"
            ],
            [
             0.5555555555555556,
             "#d8576b"
            ],
            [
             0.6666666666666666,
             "#ed7953"
            ],
            [
             0.7777777777777778,
             "#fb9f3a"
            ],
            [
             0.8888888888888888,
             "#fdca26"
            ],
            [
             1,
             "#f0f921"
            ]
           ],
           "sequentialminus": [
            [
             0,
             "#0d0887"
            ],
            [
             0.1111111111111111,
             "#46039f"
            ],
            [
             0.2222222222222222,
             "#7201a8"
            ],
            [
             0.3333333333333333,
             "#9c179e"
            ],
            [
             0.4444444444444444,
             "#bd3786"
            ],
            [
             0.5555555555555556,
             "#d8576b"
            ],
            [
             0.6666666666666666,
             "#ed7953"
            ],
            [
             0.7777777777777778,
             "#fb9f3a"
            ],
            [
             0.8888888888888888,
             "#fdca26"
            ],
            [
             1,
             "#f0f921"
            ]
           ]
          },
          "colorway": [
           "#636efa",
           "#EF553B",
           "#00cc96",
           "#ab63fa",
           "#FFA15A",
           "#19d3f3",
           "#FF6692",
           "#B6E880",
           "#FF97FF",
           "#FECB52"
          ],
          "font": {
           "color": "#2a3f5f"
          },
          "geo": {
           "bgcolor": "white",
           "lakecolor": "white",
           "landcolor": "#E5ECF6",
           "showlakes": true,
           "showland": true,
           "subunitcolor": "white"
          },
          "hoverlabel": {
           "align": "left"
          },
          "hovermode": "closest",
          "mapbox": {
           "style": "light"
          },
          "paper_bgcolor": "white",
          "plot_bgcolor": "#E5ECF6",
          "polar": {
           "angularaxis": {
            "gridcolor": "white",
            "linecolor": "white",
            "ticks": ""
           },
           "bgcolor": "#E5ECF6",
           "radialaxis": {
            "gridcolor": "white",
            "linecolor": "white",
            "ticks": ""
           }
          },
          "scene": {
           "xaxis": {
            "backgroundcolor": "#E5ECF6",
            "gridcolor": "white",
            "gridwidth": 2,
            "linecolor": "white",
            "showbackground": true,
            "ticks": "",
            "zerolinecolor": "white"
           },
           "yaxis": {
            "backgroundcolor": "#E5ECF6",
            "gridcolor": "white",
            "gridwidth": 2,
            "linecolor": "white",
            "showbackground": true,
            "ticks": "",
            "zerolinecolor": "white"
           },
           "zaxis": {
            "backgroundcolor": "#E5ECF6",
            "gridcolor": "white",
            "gridwidth": 2,
            "linecolor": "white",
            "showbackground": true,
            "ticks": "",
            "zerolinecolor": "white"
           }
          },
          "shapedefaults": {
           "line": {
            "color": "#2a3f5f"
           }
          },
          "ternary": {
           "aaxis": {
            "gridcolor": "white",
            "linecolor": "white",
            "ticks": ""
           },
           "baxis": {
            "gridcolor": "white",
            "linecolor": "white",
            "ticks": ""
           },
           "bgcolor": "#E5ECF6",
           "caxis": {
            "gridcolor": "white",
            "linecolor": "white",
            "ticks": ""
           }
          },
          "title": {
           "x": 0.05
          },
          "xaxis": {
           "automargin": true,
           "gridcolor": "white",
           "linecolor": "white",
           "ticks": "",
           "title": {
            "standoff": 15
           },
           "zerolinecolor": "white",
           "zerolinewidth": 2
          },
          "yaxis": {
           "automargin": true,
           "gridcolor": "white",
           "linecolor": "white",
           "ticks": "",
           "title": {
            "standoff": 15
           },
           "zerolinecolor": "white",
           "zerolinewidth": 2
          }
         }
        },
        "title": {
         "text": "Total CO2 Emissions from 1990 to 2020 for Top 10 Emitting Countries"
        },
        "xaxis": {
         "anchor": "y",
         "domain": [
          0,
          1
         ],
         "tickangle": -45,
         "title": {
          "text": "Country Name"
         }
        },
        "yaxis": {
         "anchor": "x",
         "domain": [
          0,
          1
         ],
         "title": {
          "text": "Total CO2 Emissions (metric tons)"
         }
        }
       }
      }
     },
     "metadata": {},
     "output_type": "display_data"
    }
   ],
   "source": [
    "# Create the bar chart visualization for the sum of CO2 emissions from 1990 to 2020\n",
    "fig = px.bar(top_emitters,\n",
    "             x='Country Name',\n",
    "             y='CO2 Emissions',\n",
    "             color=\"CO2 Emissions\",\n",
    "             color_continuous_scale=px.colors.diverging.RdYlGn_r,\n",
    "             title='Total CO2 Emissions from 1990 to 2020 for Top 10 Emitting Countries',\n",
    "             labels={'CO2 Emissions':'Total CO2 Emissions (metric tons)'},\n",
    "             text='CO2 Emissions',\n",
    "             hover_data={\"CO2 Emissions\": ':.2s'})\n",
    "\n",
    "# Customize the layout for better readability\n",
    "fig.update_layout(xaxis_tickangle=-45, \n",
    "                  yaxis=dict(title='Total CO2 Emissions (metric tons)'),\n",
    "                  coloraxis_showscale=False)\n",
    "fig.update_traces(texttemplate='%{text:.2s}', textposition='outside')\n",
    "\n",
    "# Show bar chart\n",
    "fig.show()"
   ]
  },
  {
   "cell_type": "markdown",
   "metadata": {},
   "source": [
    "The bar chart displays total CO2 emissions for the top 10 emitting countries from 1990 to 2020, highlighting the significant lead in emissions by China and the United States compared to others."
   ]
  },
  {
   "cell_type": "markdown",
   "metadata": {},
   "source": [
    "## Correlation Between GDP, Population, and CO2 Emissions\n",
    "This analysis delves into the interconnected relationship between economic growth (GDP), population size, and CO2 emissions. It aims to unravel the intricate dynamics of how both economic development and demographic trends influence the environmental impact.\n",
    "\n",
    "### Data Preparation and Analysis\n",
    "We combined GDP, population, and CO2 emissions data by country to find out how they're related. By calculating their correlations, we understand the link between economic growth, population size, and CO2 emissions. We also split the data using the median population to compare smaller and larger countries."
   ]
  },
  {
   "cell_type": "code",
   "execution_count": 7,
   "metadata": {},
   "outputs": [
    {
     "name": "stdout",
     "output_type": "stream",
     "text": [
      "Correlation coefficient between GDP and CO2 Emissions: 0.84\n",
      "Correlation coefficient between Population and CO2 Emissions: 0.75\n",
      "Median Populations is: 7255446\n"
     ]
    }
   ],
   "source": [
    "from functools import reduce\n",
    "\n",
    "# Load cleaned GDP, Population and Country data\n",
    "gdp_data = pd.read_csv(\"data/clean_data/cleaned_gdp_data.csv\")\n",
    "pop_data = pd.read_csv(\"data/clean_data/cleaned_pop_data.csv\")\n",
    "country_data = pd.read_csv(\"data/clean_data/cleaned_country_data.csv\")\n",
    "\n",
    "# Aggregate GDP, Population and CO2 mean values by year on 'Country Code'\n",
    "gdp_mean = gdp_data.groupby(\"Country Code\")[\"GDP\"].mean().reset_index()\n",
    "pop_mean = pop_data.groupby(\"Country Code\")[\"Population\"].mean().reset_index()\n",
    "co2_mean = co2_data.groupby(\"Country Code\")[\"CO2 Emissions\"].mean().reset_index()\n",
    "\n",
    "# List of dataframes to merge\n",
    "dataframes = [gdp_mean, pop_mean, co2_mean, country_data]\n",
    "\n",
    "# Merge the GDP, Population, CO2 and Country data with reduce\n",
    "total_data = reduce(lambda left, right: pd.merge(left, right, on='Country Code', suffixes=('', '_right')), dataframes)\n",
    "\n",
    "# Calculate GDP vs CO2 Emissions Correlation\n",
    "gdp_co2_corr = round(total_data[\"GDP\"].corr(total_data[\"CO2 Emissions\"]), 2)\n",
    "print(f\"Correlation coefficient between GDP and CO2 Emissions: {gdp_co2_corr}\")\n",
    "\n",
    "# Calculate Population vs CO2 Emissions Correlation\n",
    "pop_co2_corr = round(total_data[\"Population\"].corr(total_data[\"CO2 Emissions\"]), 2)\n",
    "print(f\"Correlation coefficient between Population and CO2 Emissions: {pop_co2_corr}\")\n",
    "\n",
    "# Splitting data between small and big countries based on median population for all countries\n",
    "median_population = round(total_data[\"Population\"].median()) # Using median value will split the countries evenly\n",
    "small_countries_data = total_data[total_data[\"Population\"] < median_population]\n",
    "big_countries_data = total_data[total_data[\"Population\"] >= median_population]\n",
    "\n",
    "print(f\"Median Populations is: {median_population}\")\n"
   ]
  },
  {
   "cell_type": "markdown",
   "metadata": {},
   "source": [
    "Our analysis revealed strong correlations in the data: a correlation coefficient of **0.84** between **GDP** and **CO2 Emissions** indicates a significant link between economic growth and increased carbon emissions. Additionally, a correlation coefficient of **0.75** between **Population** and **CO2 Emissions** suggests that larger population sizes also contribute notably to higher emissions. The **median population** across the dataset is **7,255,446**, which we used to differentiate between countries with smaller and larger populations for more detailed insights."
   ]
  },
  {
   "cell_type": "markdown",
   "metadata": {},
   "source": [
    "### Bubble Charts\n",
    "We use bubble charts to visualize how GDP and CO2 emissions relate to population size. One chart shows countries with smaller populations, and another for those with larger populations, helping us see how economic size and population impact CO2 emissions."
   ]
  },
  {
   "cell_type": "code",
   "execution_count": 9,
   "metadata": {},
   "outputs": [
    {
     "data": {
      "application/vnd.plotly.v1+json": {
       "config": {
        "plotlyServerURL": "https://plot.ly"
       },
       "data": [
        {
         "customdata": [
          [
           3025281.9032258065
          ],
          [
           3101353.935483871
          ],
          [
           3895947.129032258
          ],
          [
           282597.3870967742
          ],
          [
           1917790.0322580645
          ],
          [
           4253494.193548387
          ],
          [
           69226.70967741935
          ],
          [
           862077.5483870967
          ],
          [
           1540162.7741935484
          ],
          [
           4079772.5483870967
          ],
          [
           932114.4838709678
          ],
          [
           111003.12903225806
          ],
          [
           2654622.9032258065
          ],
          [
           5595299.806451613
          ],
          [
           164056.03225806452
          ],
          [
           2877204.2580645164
          ],
          [
           336878.2580645161
          ],
          [
           51063.3870967742
          ],
          [
           2038245.9677419355
          ],
          [
           614618.7741935484
          ],
          [
           1201536.1612903227
          ],
          [
           1949109.5161290322
          ],
          [
           18226.41935483871
          ],
          [
           5414007.129032258
          ],
          [
           5987186.29032258
          ],
          [
           510085.70967741933
          ],
          [
           4950737.70967742
          ],
          [
           103896.29032258065
          ],
          [
           10117.548387096775
          ],
          [
           110687.45161290323
          ]
         ],
         "hovertemplate": "<b>%{hovertext}</b><br><br>Income Group=Upper middle income<br>GDP=%{x:.2s}<br>CO2 Emissions=%{y:.2s}<br>Population=%{customdata[0]:.2s}<extra></extra>",
         "hovertext": [
          "Albania",
          "Armenia",
          "Bosnia and Herzegovina",
          "Belize",
          "Botswana",
          "Costa Rica",
          "Dominica",
          "Fiji",
          "Gabon",
          "Georgia",
          "Equatorial Guinea",
          "Grenada",
          "Jamaica",
          "Libya",
          "St. Lucia",
          "Moldova",
          "Maldives",
          "Marshall Islands",
          "North Macedonia",
          "Montenegro",
          "Mauritius",
          "Namibia",
          "Palau",
          "Paraguay",
          "El Salvador",
          "Suriname",
          "Turkmenistan",
          "Tonga",
          "Tuvalu",
          "St. Vincent and the Grenadines"
         ],
         "legendgroup": "Upper middle income",
         "marker": {
          "color": "rgba(0, 130, 200, 0.8)",
          "size": [
           3025281.9032258065,
           3101353.935483871,
           3895947.129032258,
           282597.3870967742,
           1917790.0322580645,
           4253494.193548387,
           69226.70967741935,
           862077.5483870967,
           1540162.7741935484,
           4079772.5483870967,
           932114.4838709678,
           111003.12903225806,
           2654622.9032258065,
           5595299.806451613,
           164056.03225806452,
           2877204.2580645164,
           336878.2580645161,
           51063.3870967742,
           2038245.9677419355,
           614618.7741935484,
           1201536.1612903227,
           1949109.5161290322,
           18226.41935483871,
           5414007.129032258,
           5987186.29032258,
           510085.70967741933,
           4950737.70967742,
           103896.29032258065,
           10117.548387096775,
           110687.45161290323
          ],
          "sizemode": "area",
          "sizeref": 1982.4552508960574,
          "symbol": "circle"
         },
         "mode": "markers",
         "name": "Upper middle income",
         "orientation": "v",
         "showlegend": true,
         "type": "scatter",
         "x": [
          7828514791.864515,
          6266122746.16129,
          12390888821.962963,
          1462387096.7741935,
          9498293651.580645,
          29537068391.935482,
          398001194.7483871,
          3030333203.548387,
          10269716571.548388,
          9074687026.67742,
          8217022096.616129,
          670506245.6419356,
          10696263286.096775,
          47870696575.451614,
          1231501157.664516,
          5475633948.576923,
          1965947479.1612904,
          147130238.70967743,
          7213882355.419354,
          3596019144.090476,
          7789215918.83871,
          7523686669.419354,
          213865523.80952382,
          19707037375.29032,
          15591467725.935484,
          2395705522.8903227,
          17166070638.129032,
          297137860.62258065,
          25810624.65848387,
          572204669.7741935
         ],
         "xaxis": "x",
         "y": [
          3881.9548387096775,
          5713.2190322580645,
          16761.962258064515,
          484.61290322580646,
          4450.913338709677,
          6134.829032258065,
          131.29032258064515,
          992.8461290322581,
          5536.914516129033,
          8817.849677419355,
          3823.329032258064,
          227.28064516129032,
          8754.009677419355,
          46783.18709677419,
          403.7838709677419,
          10375.748387096775,
          791.9516129032259,
          112.65806451612903,
          8387.296774193548,
          1960.4653093548388,
          2844.329032258064,
          2746.5899999999997,
          195.85806451612905,
          4640.038709677419,
          5928.296774193549,
          1982.2171151612904,
          49097.329032258065,
          110.75806451612904,
          8.680645161290323,
          195.81290322580645
         ],
         "yaxis": "y"
        },
        {
         "customdata": [
          [
           69550.67741935483
          ],
          [
           5499380.387096774
          ],
          [
           79427.16129032258
          ],
          [
           966236.2580645161
          ],
          [
           346099.9032258064
          ],
          [
           269832.8387096774
          ],
          [
           361472.8064516129
          ],
          [
           1028801.2903225806
          ],
          [
           5453462.096774193
          ],
          [
           1380680.7741935484
          ],
          [
           5273008.677419355
          ],
          [
           757477.5161290322
          ],
          [
           4365062.677419355
          ],
          [
           4185866.0967741935
          ],
          [
           301418.51612903224
          ],
          [
           6957496.774193549
          ],
          [
           45626.032258064515
          ],
          [
           2632845
          ],
          [
           34247.8064516129
          ],
          [
           3280876.9677419355
          ],
          [
           482551.4516129032
          ],
          [
           2243514.290322581
          ],
          [
           411133.3870967742
          ],
          [
           4728519.806451613
          ],
          [
           10590.806451612903
          ],
          [
           4145167.7419354836
          ],
          [
           2919144.709677419
          ],
          [
           3330250.35483871
          ],
          [
           1309330.6129032257
          ],
          [
           4482354.29032258
          ],
          [
           5385277.548387097
          ],
          [
           2022557.8387096773
          ],
          [
           84100.96774193548
          ],
          [
           1379741.4193548388
          ],
          [
           3307855.7741935486
          ]
         ],
         "hovertemplate": "<b>%{hovertext}</b><br><br>Income Group=High income<br>GDP=%{x:.2s}<br>CO2 Emissions=%{y:.2s}<br>Population=%{customdata[0]:.2s}<extra></extra>",
         "hovertext": [
          "Andorra",
          "United Arab Emirates",
          "Antigua and Barbuda",
          "Bahrain",
          "Bahamas, The",
          "Barbados",
          "Brunei Darussalam",
          "Cyprus",
          "Denmark",
          "Estonia",
          "Finland",
          "Guyana",
          "Croatia",
          "Ireland",
          "Iceland",
          "Israel",
          "St. Kitts and Nevis",
          "Kuwait",
          "Liechtenstein",
          "Lithuania",
          "Luxembourg",
          "Latvia",
          "Malta",
          "Norway",
          "Nauru",
          "New Zealand",
          "Oman",
          "Panama",
          "Qatar",
          "Singapore",
          "Slovak Republic",
          "Slovenia",
          "Seychelles",
          "Trinidad and Tobago",
          "Uruguay"
         ],
         "legendgroup": "High income",
         "marker": {
          "color": "rgba(60, 180, 75, 0.8)",
          "size": [
           69550.67741935483,
           5499380.387096774,
           79427.16129032258,
           966236.2580645161,
           346099.9032258064,
           269832.8387096774,
           361472.8064516129,
           1028801.2903225806,
           5453462.096774193,
           1380680.7741935484,
           5273008.677419355,
           757477.5161290322,
           4365062.677419355,
           4185866.0967741935,
           301418.51612903224,
           6957496.774193549,
           45626.032258064515,
           2632845,
           34247.8064516129,
           3280876.9677419355,
           482551.4516129032,
           2243514.290322581,
           411133.3870967742,
           4728519.806451613,
           10590.806451612903,
           4145167.7419354836,
           2919144.709677419,
           3330250.35483871,
           1309330.6129032257,
           4482354.29032258,
           5385277.548387097,
           2022557.8387096773,
           84100.96774193548,
           1379741.4193548388,
           3307855.7741935486
          ],
          "sizemode": "area",
          "sizeref": 1982.4552508960574,
          "symbol": "circle"
         },
         "mode": "markers",
         "name": "High income",
         "orientation": "v",
         "showlegend": true,
         "type": "scatter",
         "x": [
          2400224067.225806,
          213966121416.19354,
          1003713500.5870968,
          18489783151.35484,
          8442739032.258064,
          3667486889.967742,
          9532966117.838709,
          17051399398.451612,
          253081096774.19354,
          17278018711.26923,
          196646842409.9355,
          2252796749.080645,
          45780204498.38461,
          191188433304.90323,
          13707717872.096775,
          220163269230.76923,
          618821297.5580645,
          81192403720.87097,
          4013269220.354839,
          31749697321.76923,
          40971473892.258064,
          21052643930.807693,
          7405571360.451612,
          297174000000,
          98166088.55,
          116921723469.03226,
          43976866697.451614,
          26983905280.967743,
          79324511537.54839,
          179664876651.64517,
          61620887511.09677,
          38874994317.88461,
          921563038.5129033,
          15640582211.774193,
          32814439123.225807
         ],
         "xaxis": "x",
         "y": [
          484.89046448387097,
          125979.39032258064,
          372.44193548387096,
          21281.904516129034,
          2123.745161290323,
          1223.8496774193547,
          5905.4548387096775,
          6938.038709677419,
          49634.94516129032,
          17520.95870967742,
          54920.36774193548,
          1770.7618903225807,
          18132.18387096774,
          38517.754838709676,
          2029.6452903225806,
          57896.24838709677,
          194.55806451612904,
          62627.515806451614,
          197.2561754516129,
          13966.006451612904,
          9992.570967741936,
          8822.496774193549,
          2299.6451612903224,
          36421.283870967745,
          72.58387096774193,
          29940.545161290323,
          40126.48387096774,
          7167.9580645161295,
          47980.98387096774,
          39933.28709677419,
          37837.75161290323,
          14700.593548387098,
          372.1548387096774,
          15709.006451612904,
          5913.577419354839
         ],
         "yaxis": "y"
        },
        {
         "customdata": [
          [
           648722.4516129033
          ],
          [
           3847493.6129032257
          ],
          [
           603417.0322580645
          ],
          [
           484743.48387096776
          ],
          [
           830020.0322580645
          ],
          [
           109154.70967741935
          ],
          [
           6464369.225806451
          ],
          [
           5256403.225806451
          ],
          [
           99016.96774193548
          ],
          [
           5857721.870967742
          ],
          [
           4800814.870967742
          ],
          [
           2014058.9032258065
          ],
          [
           2624510.064516129
          ],
          [
           3116947.8387096776
          ],
          [
           5491642.258064516
          ],
          [
           6616487.516129033
          ],
          [
           491492.32258064515
          ],
          [
           165292.12903225806
          ],
          [
           1054277.7419354839
          ],
          [
           7136838.903225807
          ],
          [
           999342.9032258064
          ],
          [
           222329.64516129033
          ],
          [
           189456.74193548388
          ]
         ],
         "hovertemplate": "<b>%{hovertext}</b><br><br>Income Group=Lower middle income<br>GDP=%{x:.2s}<br>CO2 Emissions=%{y:.2s}<br>Population=%{customdata[0]:.2s}<extra></extra>",
         "hovertext": [
          "Bhutan",
          "Congo, Rep.",
          "Comoros",
          "Cabo Verde",
          "Djibouti",
          "Micronesia, Fed. Sts.",
          "Jordan",
          "Kyrgyz Republic",
          "Kiribati",
          "Lao PDR",
          "Lebanon",
          "Lesotho",
          "Mongolia",
          "Mauritania",
          "Nicaragua",
          "Papua New Guinea",
          "Solomon Islands",
          "São Tomé and Principe",
          "Eswatini",
          "Tajikistan",
          "Timor-Leste",
          "Vanuatu",
          "Samoa"
         ],
         "legendgroup": "Lower middle income",
         "marker": {
          "color": "rgba(245, 130, 48, 0.8)",
          "size": [
           648722.4516129033,
           3847493.6129032257,
           603417.0322580645,
           484743.48387096776,
           830020.0322580645,
           109154.70967741935,
           6464369.225806451,
           5256403.225806451,
           99016.96774193548,
           5857721.870967742,
           4800814.870967742,
           2014058.9032258065,
           2624510.064516129,
           3116947.8387096776,
           5491642.258064516,
           6616487.516129033,
           491492.32258064515,
           165292.12903225806,
           1054277.7419354839,
           7136838.903225807,
           999342.9032258064,
           222329.64516129033,
           189456.74193548388
          ],
          "sizemode": "area",
          "sizeref": 1982.4552508960574,
          "symbol": "circle"
         },
         "mode": "markers",
         "name": "Lower middle income",
         "orientation": "v",
         "showlegend": true,
         "type": "scatter",
         "x": [
          1085414589.2451613,
          7702200203.67742,
          715411274.3,
          1202560220.7129033,
          1200839756.483871,
          267546890.32258064,
          19817325526.19355,
          4048303300.83871,
          114934394.47806452,
          6450546780.396773,
          27244211357.548386,
          1563024739.9935484,
          5534223334.174193,
          4096728548.516129,
          7305691275,
          11061809247.161291,
          776539790.1064516,
          242865813.41150004,
          2888153036.903226,
          4064563319.709677,
          1028503961.9047619,
          490490145.64838713,
          496642339.6
         ],
         "xaxis": "x",
         "y": [
          581.0364516129033,
          4361.020290322581,
          147.36451612903227,
          402.6709677419355,
          399.81451612903226,
          142.05483870967743,
          18527.129032258064,
          8379.429032258064,
          48.3,
          4543.513393774194,
          18244.064193548387,
          1962.1935483870968,
          13599.097096774194,
          1805.5290322580645,
          3992.1387096774192,
          4200.88064516129,
          267.31290322580645,
          82.99354838709678,
          1059.8967741935485,
          4326.967580645161,
          200.78064516129032,
          101.73870967741935,
          172.46774193548387
         ],
         "yaxis": "y"
        },
        {
         "customdata": [
          [
           4129232
          ],
          [
           2771055.7419354836
          ],
          [
           1724484.2903225806
          ],
          [
           1429955.7419354839
          ],
          [
           3431083.6774193547
          ],
          [
           5788305.29032258
          ],
          [
           5874026.612903226
          ]
         ],
         "hovertemplate": "<b>%{hovertext}</b><br><br>Income Group=Low income<br>GDP=%{x:.2s}<br>CO2 Emissions=%{y:.2s}<br>Population=%{customdata[0]:.2s}<extra></extra>",
         "hovertext": [
          "Central African Republic",
          "Eritrea",
          "Gambia, The",
          "Guinea-Bissau",
          "Liberia",
          "Sierra Leone",
          "Togo"
         ],
         "legendgroup": "Low income",
         "marker": {
          "color": "rgba(230, 25, 75, 0.8)",
          "size": [
           4129232,
           2771055.7419354836,
           1724484.2903225806,
           1429955.7419354839,
           3431083.6774193547,
           5788305.29032258,
           5874026.612903226
          ],
          "sizemode": "area",
          "sizeref": 1982.4552508960574,
          "symbol": "circle"
         },
         "mode": "markers",
         "name": "Low income",
         "orientation": "v",
         "showlegend": true,
         "type": "scatter",
         "x": [
          1556370205.7258065,
          977773745.195,
          1091102334.9645162,
          683316446.9870967,
          2127428409.5238094,
          2171696205.290323,
          3804396122.774194
         ],
         "xaxis": "x",
         "y": [
          196.5258064516129,
          587.4964516129032,
          371.40645161290325,
          222.10967741935482,
          699.8330580645161,
          601.3774193548387,
          1636.4193548387098
         ],
         "yaxis": "y"
        }
       ],
       "layout": {
        "legend": {
         "itemsizing": "constant",
         "title": {
          "text": "Income Group"
         },
         "tracegroupgap": 0
        },
        "template": {
         "data": {
          "bar": [
           {
            "error_x": {
             "color": "#2a3f5f"
            },
            "error_y": {
             "color": "#2a3f5f"
            },
            "marker": {
             "line": {
              "color": "#E5ECF6",
              "width": 0.5
             },
             "pattern": {
              "fillmode": "overlay",
              "size": 10,
              "solidity": 0.2
             }
            },
            "type": "bar"
           }
          ],
          "barpolar": [
           {
            "marker": {
             "line": {
              "color": "#E5ECF6",
              "width": 0.5
             },
             "pattern": {
              "fillmode": "overlay",
              "size": 10,
              "solidity": 0.2
             }
            },
            "type": "barpolar"
           }
          ],
          "carpet": [
           {
            "aaxis": {
             "endlinecolor": "#2a3f5f",
             "gridcolor": "white",
             "linecolor": "white",
             "minorgridcolor": "white",
             "startlinecolor": "#2a3f5f"
            },
            "baxis": {
             "endlinecolor": "#2a3f5f",
             "gridcolor": "white",
             "linecolor": "white",
             "minorgridcolor": "white",
             "startlinecolor": "#2a3f5f"
            },
            "type": "carpet"
           }
          ],
          "choropleth": [
           {
            "colorbar": {
             "outlinewidth": 0,
             "ticks": ""
            },
            "type": "choropleth"
           }
          ],
          "contour": [
           {
            "colorbar": {
             "outlinewidth": 0,
             "ticks": ""
            },
            "colorscale": [
             [
              0,
              "#0d0887"
             ],
             [
              0.1111111111111111,
              "#46039f"
             ],
             [
              0.2222222222222222,
              "#7201a8"
             ],
             [
              0.3333333333333333,
              "#9c179e"
             ],
             [
              0.4444444444444444,
              "#bd3786"
             ],
             [
              0.5555555555555556,
              "#d8576b"
             ],
             [
              0.6666666666666666,
              "#ed7953"
             ],
             [
              0.7777777777777778,
              "#fb9f3a"
             ],
             [
              0.8888888888888888,
              "#fdca26"
             ],
             [
              1,
              "#f0f921"
             ]
            ],
            "type": "contour"
           }
          ],
          "contourcarpet": [
           {
            "colorbar": {
             "outlinewidth": 0,
             "ticks": ""
            },
            "type": "contourcarpet"
           }
          ],
          "heatmap": [
           {
            "colorbar": {
             "outlinewidth": 0,
             "ticks": ""
            },
            "colorscale": [
             [
              0,
              "#0d0887"
             ],
             [
              0.1111111111111111,
              "#46039f"
             ],
             [
              0.2222222222222222,
              "#7201a8"
             ],
             [
              0.3333333333333333,
              "#9c179e"
             ],
             [
              0.4444444444444444,
              "#bd3786"
             ],
             [
              0.5555555555555556,
              "#d8576b"
             ],
             [
              0.6666666666666666,
              "#ed7953"
             ],
             [
              0.7777777777777778,
              "#fb9f3a"
             ],
             [
              0.8888888888888888,
              "#fdca26"
             ],
             [
              1,
              "#f0f921"
             ]
            ],
            "type": "heatmap"
           }
          ],
          "heatmapgl": [
           {
            "colorbar": {
             "outlinewidth": 0,
             "ticks": ""
            },
            "colorscale": [
             [
              0,
              "#0d0887"
             ],
             [
              0.1111111111111111,
              "#46039f"
             ],
             [
              0.2222222222222222,
              "#7201a8"
             ],
             [
              0.3333333333333333,
              "#9c179e"
             ],
             [
              0.4444444444444444,
              "#bd3786"
             ],
             [
              0.5555555555555556,
              "#d8576b"
             ],
             [
              0.6666666666666666,
              "#ed7953"
             ],
             [
              0.7777777777777778,
              "#fb9f3a"
             ],
             [
              0.8888888888888888,
              "#fdca26"
             ],
             [
              1,
              "#f0f921"
             ]
            ],
            "type": "heatmapgl"
           }
          ],
          "histogram": [
           {
            "marker": {
             "pattern": {
              "fillmode": "overlay",
              "size": 10,
              "solidity": 0.2
             }
            },
            "type": "histogram"
           }
          ],
          "histogram2d": [
           {
            "colorbar": {
             "outlinewidth": 0,
             "ticks": ""
            },
            "colorscale": [
             [
              0,
              "#0d0887"
             ],
             [
              0.1111111111111111,
              "#46039f"
             ],
             [
              0.2222222222222222,
              "#7201a8"
             ],
             [
              0.3333333333333333,
              "#9c179e"
             ],
             [
              0.4444444444444444,
              "#bd3786"
             ],
             [
              0.5555555555555556,
              "#d8576b"
             ],
             [
              0.6666666666666666,
              "#ed7953"
             ],
             [
              0.7777777777777778,
              "#fb9f3a"
             ],
             [
              0.8888888888888888,
              "#fdca26"
             ],
             [
              1,
              "#f0f921"
             ]
            ],
            "type": "histogram2d"
           }
          ],
          "histogram2dcontour": [
           {
            "colorbar": {
             "outlinewidth": 0,
             "ticks": ""
            },
            "colorscale": [
             [
              0,
              "#0d0887"
             ],
             [
              0.1111111111111111,
              "#46039f"
             ],
             [
              0.2222222222222222,
              "#7201a8"
             ],
             [
              0.3333333333333333,
              "#9c179e"
             ],
             [
              0.4444444444444444,
              "#bd3786"
             ],
             [
              0.5555555555555556,
              "#d8576b"
             ],
             [
              0.6666666666666666,
              "#ed7953"
             ],
             [
              0.7777777777777778,
              "#fb9f3a"
             ],
             [
              0.8888888888888888,
              "#fdca26"
             ],
             [
              1,
              "#f0f921"
             ]
            ],
            "type": "histogram2dcontour"
           }
          ],
          "mesh3d": [
           {
            "colorbar": {
             "outlinewidth": 0,
             "ticks": ""
            },
            "type": "mesh3d"
           }
          ],
          "parcoords": [
           {
            "line": {
             "colorbar": {
              "outlinewidth": 0,
              "ticks": ""
             }
            },
            "type": "parcoords"
           }
          ],
          "pie": [
           {
            "automargin": true,
            "type": "pie"
           }
          ],
          "scatter": [
           {
            "fillpattern": {
             "fillmode": "overlay",
             "size": 10,
             "solidity": 0.2
            },
            "type": "scatter"
           }
          ],
          "scatter3d": [
           {
            "line": {
             "colorbar": {
              "outlinewidth": 0,
              "ticks": ""
             }
            },
            "marker": {
             "colorbar": {
              "outlinewidth": 0,
              "ticks": ""
             }
            },
            "type": "scatter3d"
           }
          ],
          "scattercarpet": [
           {
            "marker": {
             "colorbar": {
              "outlinewidth": 0,
              "ticks": ""
             }
            },
            "type": "scattercarpet"
           }
          ],
          "scattergeo": [
           {
            "marker": {
             "colorbar": {
              "outlinewidth": 0,
              "ticks": ""
             }
            },
            "type": "scattergeo"
           }
          ],
          "scattergl": [
           {
            "marker": {
             "colorbar": {
              "outlinewidth": 0,
              "ticks": ""
             }
            },
            "type": "scattergl"
           }
          ],
          "scattermapbox": [
           {
            "marker": {
             "colorbar": {
              "outlinewidth": 0,
              "ticks": ""
             }
            },
            "type": "scattermapbox"
           }
          ],
          "scatterpolar": [
           {
            "marker": {
             "colorbar": {
              "outlinewidth": 0,
              "ticks": ""
             }
            },
            "type": "scatterpolar"
           }
          ],
          "scatterpolargl": [
           {
            "marker": {
             "colorbar": {
              "outlinewidth": 0,
              "ticks": ""
             }
            },
            "type": "scatterpolargl"
           }
          ],
          "scatterternary": [
           {
            "marker": {
             "colorbar": {
              "outlinewidth": 0,
              "ticks": ""
             }
            },
            "type": "scatterternary"
           }
          ],
          "surface": [
           {
            "colorbar": {
             "outlinewidth": 0,
             "ticks": ""
            },
            "colorscale": [
             [
              0,
              "#0d0887"
             ],
             [
              0.1111111111111111,
              "#46039f"
             ],
             [
              0.2222222222222222,
              "#7201a8"
             ],
             [
              0.3333333333333333,
              "#9c179e"
             ],
             [
              0.4444444444444444,
              "#bd3786"
             ],
             [
              0.5555555555555556,
              "#d8576b"
             ],
             [
              0.6666666666666666,
              "#ed7953"
             ],
             [
              0.7777777777777778,
              "#fb9f3a"
             ],
             [
              0.8888888888888888,
              "#fdca26"
             ],
             [
              1,
              "#f0f921"
             ]
            ],
            "type": "surface"
           }
          ],
          "table": [
           {
            "cells": {
             "fill": {
              "color": "#EBF0F8"
             },
             "line": {
              "color": "white"
             }
            },
            "header": {
             "fill": {
              "color": "#C8D4E3"
             },
             "line": {
              "color": "white"
             }
            },
            "type": "table"
           }
          ]
         },
         "layout": {
          "annotationdefaults": {
           "arrowcolor": "#2a3f5f",
           "arrowhead": 0,
           "arrowwidth": 1
          },
          "autotypenumbers": "strict",
          "coloraxis": {
           "colorbar": {
            "outlinewidth": 0,
            "ticks": ""
           }
          },
          "colorscale": {
           "diverging": [
            [
             0,
             "#8e0152"
            ],
            [
             0.1,
             "#c51b7d"
            ],
            [
             0.2,
             "#de77ae"
            ],
            [
             0.3,
             "#f1b6da"
            ],
            [
             0.4,
             "#fde0ef"
            ],
            [
             0.5,
             "#f7f7f7"
            ],
            [
             0.6,
             "#e6f5d0"
            ],
            [
             0.7,
             "#b8e186"
            ],
            [
             0.8,
             "#7fbc41"
            ],
            [
             0.9,
             "#4d9221"
            ],
            [
             1,
             "#276419"
            ]
           ],
           "sequential": [
            [
             0,
             "#0d0887"
            ],
            [
             0.1111111111111111,
             "#46039f"
            ],
            [
             0.2222222222222222,
             "#7201a8"
            ],
            [
             0.3333333333333333,
             "#9c179e"
            ],
            [
             0.4444444444444444,
             "#bd3786"
            ],
            [
             0.5555555555555556,
             "#d8576b"
            ],
            [
             0.6666666666666666,
             "#ed7953"
            ],
            [
             0.7777777777777778,
             "#fb9f3a"
            ],
            [
             0.8888888888888888,
             "#fdca26"
            ],
            [
             1,
             "#f0f921"
            ]
           ],
           "sequentialminus": [
            [
             0,
             "#0d0887"
            ],
            [
             0.1111111111111111,
             "#46039f"
            ],
            [
             0.2222222222222222,
             "#7201a8"
            ],
            [
             0.3333333333333333,
             "#9c179e"
            ],
            [
             0.4444444444444444,
             "#bd3786"
            ],
            [
             0.5555555555555556,
             "#d8576b"
            ],
            [
             0.6666666666666666,
             "#ed7953"
            ],
            [
             0.7777777777777778,
             "#fb9f3a"
            ],
            [
             0.8888888888888888,
             "#fdca26"
            ],
            [
             1,
             "#f0f921"
            ]
           ]
          },
          "colorway": [
           "#636efa",
           "#EF553B",
           "#00cc96",
           "#ab63fa",
           "#FFA15A",
           "#19d3f3",
           "#FF6692",
           "#B6E880",
           "#FF97FF",
           "#FECB52"
          ],
          "font": {
           "color": "#2a3f5f"
          },
          "geo": {
           "bgcolor": "white",
           "lakecolor": "white",
           "landcolor": "#E5ECF6",
           "showlakes": true,
           "showland": true,
           "subunitcolor": "white"
          },
          "hoverlabel": {
           "align": "left"
          },
          "hovermode": "closest",
          "mapbox": {
           "style": "light"
          },
          "paper_bgcolor": "white",
          "plot_bgcolor": "#E5ECF6",
          "polar": {
           "angularaxis": {
            "gridcolor": "white",
            "linecolor": "white",
            "ticks": ""
           },
           "bgcolor": "#E5ECF6",
           "radialaxis": {
            "gridcolor": "white",
            "linecolor": "white",
            "ticks": ""
           }
          },
          "scene": {
           "xaxis": {
            "backgroundcolor": "#E5ECF6",
            "gridcolor": "white",
            "gridwidth": 2,
            "linecolor": "white",
            "showbackground": true,
            "ticks": "",
            "zerolinecolor": "white"
           },
           "yaxis": {
            "backgroundcolor": "#E5ECF6",
            "gridcolor": "white",
            "gridwidth": 2,
            "linecolor": "white",
            "showbackground": true,
            "ticks": "",
            "zerolinecolor": "white"
           },
           "zaxis": {
            "backgroundcolor": "#E5ECF6",
            "gridcolor": "white",
            "gridwidth": 2,
            "linecolor": "white",
            "showbackground": true,
            "ticks": "",
            "zerolinecolor": "white"
           }
          },
          "shapedefaults": {
           "line": {
            "color": "#2a3f5f"
           }
          },
          "ternary": {
           "aaxis": {
            "gridcolor": "white",
            "linecolor": "white",
            "ticks": ""
           },
           "baxis": {
            "gridcolor": "white",
            "linecolor": "white",
            "ticks": ""
           },
           "bgcolor": "#E5ECF6",
           "caxis": {
            "gridcolor": "white",
            "linecolor": "white",
            "ticks": ""
           }
          },
          "title": {
           "x": 0.05
          },
          "xaxis": {
           "automargin": true,
           "gridcolor": "white",
           "linecolor": "white",
           "ticks": "",
           "title": {
            "standoff": 15
           },
           "zerolinecolor": "white",
           "zerolinewidth": 2
          },
          "yaxis": {
           "automargin": true,
           "gridcolor": "white",
           "linecolor": "white",
           "ticks": "",
           "title": {
            "standoff": 15
           },
           "zerolinecolor": "white",
           "zerolinewidth": 2
          }
         }
        },
        "title": {
         "text": "GDP vs CO2 Emissions by Population and Income Group from 1990 to 2020 (Small Countries)"
        },
        "xaxis": {
         "anchor": "y",
         "domain": [
          0,
          1
         ],
         "title": {
          "text": "Average GDP (in USD - log scale)"
         },
         "type": "log"
        },
        "yaxis": {
         "anchor": "x",
         "domain": [
          0,
          1
         ],
         "title": {
          "text": "Average CO2 Emissions (in metric tons - log scale)"
         },
         "type": "log"
        }
       }
      }
     },
     "metadata": {},
     "output_type": "display_data"
    },
    {
     "data": {
      "application/vnd.plotly.v1+json": {
       "config": {
        "plotlyServerURL": "https://plot.ly"
       },
       "data": [
        {
         "customdata": [
          [
           24440383
          ],
          [
           8024055.935483871
          ],
          [
           14387337.548387097
          ],
          [
           59608453.48387097
          ],
          [
           79423115.09677419
          ],
          [
           19256221.903225806
          ],
          [
           13850829.774193548
          ],
          [
           20933615.83870968
          ],
          [
           13415304.516129032
          ],
          [
           14747921.677419355
          ],
          [
           9397369.903225806
          ],
          [
           30631940.70967742
          ],
          [
           10610311.612903226
          ],
          [
           7923410.903225807
          ],
          [
           17930622.93548387
          ],
          [
           10408220.290322581
          ],
          [
           28923141.35483871
          ],
          [
           22034307.93548387
          ]
         ],
         "hovertemplate": "<b>%{hovertext}</b><br><br>Income Group=Low income<br>GDP=%{x:.2s}<br>CO2 Emissions=%{y:.2s}<br>Population=%{customdata[0]:.2s}<extra></extra>",
         "hovertext": [
          "Afghanistan",
          "Burundi",
          "Burkina Faso",
          "Congo, Dem. Rep.",
          "Ethiopia",
          "Madagascar",
          "Mali",
          "Mozambique",
          "Malawi",
          "Niger",
          "Rwanda",
          "Sudan",
          "Somalia",
          "South Sudan",
          "Syrian Arab Republic",
          "Chad",
          "Uganda",
          "Yemen, Rep."
         ],
         "legendgroup": "Low income",
         "marker": {
          "color": "rgba(230, 25, 75, 0.8)",
          "size": [
           24440383,
           8024055.935483871,
           14387337.548387097,
           59608453.48387097,
           79423115.09677419,
           19256221.903225806,
           13850829.774193548,
           20933615.83870968,
           13415304.516129032,
           14747921.677419355,
           9397369.903225806,
           30631940.70967742,
           10610311.612903226,
           7923410.903225807,
           17930622.93548387,
           10408220.290322581,
           28923141.35483871,
           22034307.93548387
          ],
          "sizemode": "area",
          "sizeref": 359442.38351254485,
          "symbol": "circle"
         },
         "mode": "markers",
         "name": "Low income",
         "orientation": "v",
         "showlegend": true,
         "type": "scatter",
         "x": [
          14129277598.894737,
          1591197406.548387,
          7690445429.5161295,
          19828287896.129032,
          30939958636.419353,
          7854889639.903226,
          7987593923.096774,
          9325972636.6,
          6073202964.354838,
          6108997321.612904,
          4611463841.629032,
          41550927047.83871,
          5135671582,
          14080606755.625,
          76545284354.32259,
          6358483731.16129,
          15915787923.67742,
          18230152874.03448
         ],
         "xaxis": "x",
         "y": [
          4821.062354838709,
          301.1989032258064,
          2002.4993548387095,
          2493.5812903225806,
          7092.677419354839,
          1976.3345161290322,
          1835.4727741935485,
          2910.1939677419355,
          1022.1376774193549,
          1120.6809999999998,
          758.6836129032258,
          11567.729677419355,
          612.6825483870967,
          977.4395860967742,
          41814.96451612903,
          890.9056419354839,
          2628.754677419355,
          15957.08064516129
         ],
         "yaxis": "y"
        },
        {
         "customdata": [
          [
           20667663.419354837
          ],
          [
           8412000.935483871
          ],
          [
           138526674.41935483
          ],
          [
           9442026.096774194
          ],
          [
           19021052.80645161
          ],
          [
           17910038.70967742
          ],
          [
           33701063.29032258
          ],
          [
           80361682.06451613
          ],
          [
           22989586.870967742
          ],
          [
           9438578.838709677
          ],
          [
           7560874.064516129
          ],
          [
           9104023.64516129
          ],
          [
           1145915794.8709676
          ],
          [
           70975004.83870968
          ],
          [
           36601860.64516129
          ],
          [
           13118353.258064516
          ],
          [
           19704286.677419353
          ],
          [
           30567662.032258064
          ],
          [
           47296616.161290325
          ],
          [
           144773136.80645162
          ],
          [
           25374288.06451613
          ],
          [
           173012348.70967743
          ],
          [
           86344934.80645162
          ],
          [
           11369440.741935484
          ],
          [
           10391932.967741935
          ],
          [
           41002947.09677419
          ],
          [
           47845450.41935484
          ],
          [
           26811706.451612905
          ],
          [
           82877225.19354838
          ],
          [
           12259991.677419355
          ],
          [
           12508593.193548387
          ]
         ],
         "hovertemplate": "<b>%{hovertext}</b><br><br>Income Group=Lower middle income<br>GDP=%{x:.2s}<br>CO2 Emissions=%{y:.2s}<br>Population=%{customdata[0]:.2s}<extra></extra>",
         "hovertext": [
          "Angola",
          "Benin",
          "Bangladesh",
          "Bolivia",
          "Côte d'Ivoire",
          "Cameroon",
          "Algeria",
          "Egypt, Arab Rep.",
          "Ghana",
          "Guinea",
          "Honduras",
          "Haiti",
          "India",
          "Iran, Islamic Rep.",
          "Kenya",
          "Cambodia",
          "Sri Lanka",
          "Morocco",
          "Myanmar",
          "Nigeria",
          "Nepal",
          "Pakistan",
          "Philippines",
          "Senegal",
          "Tunisia",
          "Tanzania",
          "Ukraine",
          "Uzbekistan",
          "Vietnam",
          "Zambia",
          "Zimbabwe"
         ],
         "legendgroup": "Lower middle income",
         "marker": {
          "color": "rgba(245, 130, 48, 0.8)",
          "size": [
           20667663.419354837,
           8412000.935483871,
           138526674.41935483,
           9442026.096774194,
           19021052.80645161,
           17910038.70967742,
           33701063.29032258,
           80361682.06451613,
           22989586.870967742,
           9438578.838709677,
           7560874.064516129,
           9104023.64516129,
           1145915794.8709676,
           70975004.83870968,
           36601860.64516129,
           13118353.258064516,
           19704286.677419353,
           30567662.032258064,
           47296616.161290325,
           144773136.80645162,
           25374288.06451613,
           173012348.70967743,
           86344934.80645162,
           11369440.741935484,
           10391932.967741935,
           41002947.09677419,
           47845450.41935484,
           26811706.451612905,
           82877225.19354838,
           12259991.677419355,
           12508593.193548387
          ],
          "sizemode": "area",
          "sizeref": 359442.38351254485,
          "symbol": "circle"
         },
         "mode": "markers",
         "name": "Lower middle income",
         "orientation": "v",
         "showlegend": true,
         "type": "scatter",
         "x": [
          47265268525.19355,
          7227485969.096774,
          116069399250.32259,
          17175573842.387096,
          29268804263.677418,
          22148478801,
          111201382994.54839,
          158903620866.58066,
          26195051072.83871,
          5891159225.83871,
          12374812060.451612,
          8542425734.225806,
          1171646322580.6453,
          279639217591.34485,
          36208835444.258064,
          10538129870.642857,
          40970476573.548386,
          75521353953.06451,
          27097289233.83871,
          233020125757.9355,
          13200847152.516129,
          152600483052.2903,
          168835432482.9355,
          12712702184.774193,
          32046574427.419353,
          25562343287.451614,
          97312088817.19354,
          33986233853.612904,
          113076094356.45161,
          12485194019.870968,
          11433551412.483871
         ],
         "xaxis": "x",
         "y": [
          18463.87064516129,
          3281.201935483871,
          41509.12580645161,
          13131.438709677419,
          6424.354838709677,
          6417.325806451613,
          105761.24193548386,
          159806.74838709677,
          8494.266451612904,
          2039.0677419354838,
          6827.654838709677,
          1955.843548387097,
          1356317.4838709678,
          437177.9193548387,
          11069.503225806451,
          5020.728064516129,
          12852.132258064516,
          43796.18387096774,
          12518.374193548387,
          95836.96774193548,
          4931.257419354839,
          123183.9870967742,
          81787.14838709678,
          5913.835483870967,
          23689.5,
          6167.98064516129,
          321074.30967741937,
          115804.69677419355,
          117005.32580645161,
          3320.688064516129,
          12378.396774193548
         ],
         "yaxis": "y"
        },
        {
         "customdata": [
          [
           39027835.67741936
          ],
          [
           8578576.838709677
          ],
          [
           7756823.677419355
          ],
          [
           9764849.967741935
          ],
          [
           184931859.58064517
          ],
          [
           1293992580.6451614
          ],
          [
           41842118.838709675
          ],
          [
           11146321.709677419
          ],
          [
           9136378.838709677
          ],
          [
           13864154.903225806
          ],
          [
           12934780.612903226
          ],
          [
           228555806.48387095
          ],
          [
           28798759.096774194
          ],
          [
           16249727.064516129
          ],
          [
           104996343.03225806
          ],
          [
           25688446
          ],
          [
           27810560.64516129
          ],
          [
           145317239.7419355
          ],
          [
           7374053.129032258
          ],
          [
           65032057.741935484
          ],
          [
           69049118.67741935
          ],
          [
           49427210.93548387
          ]
         ],
         "hovertemplate": "<b>%{hovertext}</b><br><br>Income Group=Upper middle income<br>GDP=%{x:.2s}<br>CO2 Emissions=%{y:.2s}<br>Population=%{customdata[0]:.2s}<extra></extra>",
         "hovertext": [
          "Argentina",
          "Azerbaijan",
          "Bulgaria",
          "Belarus",
          "Brazil",
          "China",
          "Colombia",
          "Cuba",
          "Dominican Republic",
          "Ecuador",
          "Guatemala",
          "Indonesia",
          "Iraq",
          "Kazakhstan",
          "Mexico",
          "Malaysia",
          "Peru",
          "Russian Federation",
          "Serbia",
          "Thailand",
          "Türkiye",
          "South Africa"
         ],
         "legendgroup": "Upper middle income",
         "marker": {
          "color": "rgba(0, 130, 200, 0.8)",
          "size": [
           39027835.67741936,
           8578576.838709677,
           7756823.677419355,
           9764849.967741935,
           184931859.58064517,
           1293992580.6451614,
           41842118.838709675,
           11146321.709677419,
           9136378.838709677,
           13864154.903225806,
           12934780.612903226,
           228555806.48387095,
           28798759.096774194,
           16249727.064516129,
           104996343.03225806,
           25688446,
           27810560.64516129,
           145317239.7419355,
           7374053.129032258,
           65032057.741935484,
           69049118.67741935,
           49427210.93548387
          ],
          "sizemode": "area",
          "sizeref": 359442.38351254485,
          "symbol": "circle"
         },
         "mode": "markers",
         "name": "Upper middle income",
         "orientation": "v",
         "showlegend": true,
         "type": "scatter",
         "x": [
          340255193685.5484,
          27010307444.890324,
          35022481563.70968,
          36986529041.70968,
          1260417645161.2903,
          4918369870967.742,
          188788170669.7097,
          52771876315.51613,
          41043685176.258064,
          53983359913.3871,
          34930196544.741936,
          487407533802.35486,
          99324227561.14194,
          92970775002.3871,
          840276419354.8387,
          183922114663.58066,
          109697317061.58064,
          1001400193548.3871,
          34589659613.88461,
          258905932346.09677,
          506252354838.70966,
          265556580645.1613
         ],
         "xaxis": "x",
         "y": [
          146091.10967741936,
          32714.570967741933,
          48117.96129032258,
          61400.399999999994,
          345113.8645161291,
          6185669.5548387095,
          64550.903225806454,
          26559.387096774193,
          18261.21935483871,
          29135.52258064516,
          10830.225806451614,
          357367.6741935484,
          106223.98064516128,
          193144.70970967744,
          401457.8258064516,
          159624.03548387095,
          36426.72258064516,
          1666028.8096774195,
          48681.86129032258,
          204857.03548387095,
          260556.97096774192,
          354733.3741935484
         ],
         "yaxis": "y"
        },
        {
         "customdata": [
          [
           20756818.451612905
          ],
          [
           8253906
          ],
          [
           10638467.64516129
          ],
          [
           32483918.80645161
          ],
          [
           7577968.516129033
          ],
          [
           16191556.032258065
          ],
          [
           10387545.612903226
          ],
          [
           81794325.03225806
          ],
          [
           43346809.12903226
          ],
          [
           63016800.77419355
          ],
          [
           61251684.64516129
          ],
          [
           10791328.612903226
          ],
          [
           10087575.322580645
          ],
          [
           58307092
          ],
          [
           126709419.35483871
          ],
          [
           48049592.838709675
          ],
          [
           16241996.161290323
          ],
          [
           38217346.48387097
          ],
          [
           10306260.096774194
          ],
          [
           21242686.225806452
          ],
          [
           25556115.29032258
          ],
          [
           9232846.838709677
          ],
          [
           293996648.58064514
          ]
         ],
         "hovertemplate": "<b>%{hovertext}</b><br><br>Income Group=High income<br>GDP=%{x:.2s}<br>CO2 Emissions=%{y:.2s}<br>Population=%{customdata[0]:.2s}<extra></extra>",
         "hovertext": [
          "Australia",
          "Austria",
          "Belgium",
          "Canada",
          "Switzerland",
          "Chile",
          "Czechia",
          "Germany",
          "Spain",
          "France",
          "United Kingdom",
          "Greece",
          "Hungary",
          "Italy",
          "Japan",
          "Korea, Rep.",
          "Netherlands",
          "Poland",
          "Portugal",
          "Romania",
          "Saudi Arabia",
          "Sweden",
          "United States"
         ],
         "legendgroup": "High income",
         "marker": {
          "color": "rgba(60, 180, 75, 0.8)",
          "size": [
           20756818.451612905,
           8253906,
           10638467.64516129,
           32483918.80645161,
           7577968.516129033,
           16191556.032258065,
           10387545.612903226,
           81794325.03225806,
           43346809.12903226,
           63016800.77419355,
           61251684.64516129,
           10791328.612903226,
           10087575.322580645,
           58307092,
           126709419.35483871,
           48049592.838709675,
           16241996.161290323,
           38217346.48387097,
           10306260.096774194,
           21242686.225806452,
           25556115.29032258,
           9232846.838709677,
           293996648.58064514
          ],
          "sizemode": "area",
          "sizeref": 359442.38351254485,
          "symbol": "circle"
         },
         "mode": "markers",
         "name": "High income",
         "orientation": "v",
         "showlegend": true,
         "type": "scatter",
         "x": [
          816629290322.5807,
          314199580645.1613,
          378879548387.0968,
          1160101064516.1292,
          477048064516.129,
          151042358213.58066,
          138528243181.2903,
          2905131612903.2256,
          1019856129032.258,
          2092219032258.0645,
          2162663870967.742,
          198103777161.3871,
          98992923969.56667,
          1686008709677.4194,
          4809141612903.226,
          935269806451.6129,
          647652096774.1936,
          327538222162.4516,
          176062156538.7097,
          116984491624.90323,
          402472129032.25806,
          399231225806.4516,
          12981739032258.064
         ],
         "xaxis": "x",
         "y": [
          350865.6548387097,
          65519.33870967742,
          106140.54516129031,
          514173.94516129035,
          42749.79677419355,
          60248.63548387097,
          117642.3935483871,
          805540.1483870968,
          269775.7225806452,
          348778.1258064516,
          488103.7806451613,
          83001.6806451613,
          52881.73225806451,
          399148.1451612903,
          1164215.7000000002,
          482221.9483870968,
          160362.22699999998,
          313107.3806451613,
          52496.06451612903,
          96122.62903225806,
          352883.7870967742,
          48764.899999999994,
          5246397.3580645155
         ],
         "yaxis": "y"
        }
       ],
       "layout": {
        "legend": {
         "itemsizing": "constant",
         "title": {
          "text": "Income Group"
         },
         "tracegroupgap": 0
        },
        "template": {
         "data": {
          "bar": [
           {
            "error_x": {
             "color": "#2a3f5f"
            },
            "error_y": {
             "color": "#2a3f5f"
            },
            "marker": {
             "line": {
              "color": "#E5ECF6",
              "width": 0.5
             },
             "pattern": {
              "fillmode": "overlay",
              "size": 10,
              "solidity": 0.2
             }
            },
            "type": "bar"
           }
          ],
          "barpolar": [
           {
            "marker": {
             "line": {
              "color": "#E5ECF6",
              "width": 0.5
             },
             "pattern": {
              "fillmode": "overlay",
              "size": 10,
              "solidity": 0.2
             }
            },
            "type": "barpolar"
           }
          ],
          "carpet": [
           {
            "aaxis": {
             "endlinecolor": "#2a3f5f",
             "gridcolor": "white",
             "linecolor": "white",
             "minorgridcolor": "white",
             "startlinecolor": "#2a3f5f"
            },
            "baxis": {
             "endlinecolor": "#2a3f5f",
             "gridcolor": "white",
             "linecolor": "white",
             "minorgridcolor": "white",
             "startlinecolor": "#2a3f5f"
            },
            "type": "carpet"
           }
          ],
          "choropleth": [
           {
            "colorbar": {
             "outlinewidth": 0,
             "ticks": ""
            },
            "type": "choropleth"
           }
          ],
          "contour": [
           {
            "colorbar": {
             "outlinewidth": 0,
             "ticks": ""
            },
            "colorscale": [
             [
              0,
              "#0d0887"
             ],
             [
              0.1111111111111111,
              "#46039f"
             ],
             [
              0.2222222222222222,
              "#7201a8"
             ],
             [
              0.3333333333333333,
              "#9c179e"
             ],
             [
              0.4444444444444444,
              "#bd3786"
             ],
             [
              0.5555555555555556,
              "#d8576b"
             ],
             [
              0.6666666666666666,
              "#ed7953"
             ],
             [
              0.7777777777777778,
              "#fb9f3a"
             ],
             [
              0.8888888888888888,
              "#fdca26"
             ],
             [
              1,
              "#f0f921"
             ]
            ],
            "type": "contour"
           }
          ],
          "contourcarpet": [
           {
            "colorbar": {
             "outlinewidth": 0,
             "ticks": ""
            },
            "type": "contourcarpet"
           }
          ],
          "heatmap": [
           {
            "colorbar": {
             "outlinewidth": 0,
             "ticks": ""
            },
            "colorscale": [
             [
              0,
              "#0d0887"
             ],
             [
              0.1111111111111111,
              "#46039f"
             ],
             [
              0.2222222222222222,
              "#7201a8"
             ],
             [
              0.3333333333333333,
              "#9c179e"
             ],
             [
              0.4444444444444444,
              "#bd3786"
             ],
             [
              0.5555555555555556,
              "#d8576b"
             ],
             [
              0.6666666666666666,
              "#ed7953"
             ],
             [
              0.7777777777777778,
              "#fb9f3a"
             ],
             [
              0.8888888888888888,
              "#fdca26"
             ],
             [
              1,
              "#f0f921"
             ]
            ],
            "type": "heatmap"
           }
          ],
          "heatmapgl": [
           {
            "colorbar": {
             "outlinewidth": 0,
             "ticks": ""
            },
            "colorscale": [
             [
              0,
              "#0d0887"
             ],
             [
              0.1111111111111111,
              "#46039f"
             ],
             [
              0.2222222222222222,
              "#7201a8"
             ],
             [
              0.3333333333333333,
              "#9c179e"
             ],
             [
              0.4444444444444444,
              "#bd3786"
             ],
             [
              0.5555555555555556,
              "#d8576b"
             ],
             [
              0.6666666666666666,
              "#ed7953"
             ],
             [
              0.7777777777777778,
              "#fb9f3a"
             ],
             [
              0.8888888888888888,
              "#fdca26"
             ],
             [
              1,
              "#f0f921"
             ]
            ],
            "type": "heatmapgl"
           }
          ],
          "histogram": [
           {
            "marker": {
             "pattern": {
              "fillmode": "overlay",
              "size": 10,
              "solidity": 0.2
             }
            },
            "type": "histogram"
           }
          ],
          "histogram2d": [
           {
            "colorbar": {
             "outlinewidth": 0,
             "ticks": ""
            },
            "colorscale": [
             [
              0,
              "#0d0887"
             ],
             [
              0.1111111111111111,
              "#46039f"
             ],
             [
              0.2222222222222222,
              "#7201a8"
             ],
             [
              0.3333333333333333,
              "#9c179e"
             ],
             [
              0.4444444444444444,
              "#bd3786"
             ],
             [
              0.5555555555555556,
              "#d8576b"
             ],
             [
              0.6666666666666666,
              "#ed7953"
             ],
             [
              0.7777777777777778,
              "#fb9f3a"
             ],
             [
              0.8888888888888888,
              "#fdca26"
             ],
             [
              1,
              "#f0f921"
             ]
            ],
            "type": "histogram2d"
           }
          ],
          "histogram2dcontour": [
           {
            "colorbar": {
             "outlinewidth": 0,
             "ticks": ""
            },
            "colorscale": [
             [
              0,
              "#0d0887"
             ],
             [
              0.1111111111111111,
              "#46039f"
             ],
             [
              0.2222222222222222,
              "#7201a8"
             ],
             [
              0.3333333333333333,
              "#9c179e"
             ],
             [
              0.4444444444444444,
              "#bd3786"
             ],
             [
              0.5555555555555556,
              "#d8576b"
             ],
             [
              0.6666666666666666,
              "#ed7953"
             ],
             [
              0.7777777777777778,
              "#fb9f3a"
             ],
             [
              0.8888888888888888,
              "#fdca26"
             ],
             [
              1,
              "#f0f921"
             ]
            ],
            "type": "histogram2dcontour"
           }
          ],
          "mesh3d": [
           {
            "colorbar": {
             "outlinewidth": 0,
             "ticks": ""
            },
            "type": "mesh3d"
           }
          ],
          "parcoords": [
           {
            "line": {
             "colorbar": {
              "outlinewidth": 0,
              "ticks": ""
             }
            },
            "type": "parcoords"
           }
          ],
          "pie": [
           {
            "automargin": true,
            "type": "pie"
           }
          ],
          "scatter": [
           {
            "fillpattern": {
             "fillmode": "overlay",
             "size": 10,
             "solidity": 0.2
            },
            "type": "scatter"
           }
          ],
          "scatter3d": [
           {
            "line": {
             "colorbar": {
              "outlinewidth": 0,
              "ticks": ""
             }
            },
            "marker": {
             "colorbar": {
              "outlinewidth": 0,
              "ticks": ""
             }
            },
            "type": "scatter3d"
           }
          ],
          "scattercarpet": [
           {
            "marker": {
             "colorbar": {
              "outlinewidth": 0,
              "ticks": ""
             }
            },
            "type": "scattercarpet"
           }
          ],
          "scattergeo": [
           {
            "marker": {
             "colorbar": {
              "outlinewidth": 0,
              "ticks": ""
             }
            },
            "type": "scattergeo"
           }
          ],
          "scattergl": [
           {
            "marker": {
             "colorbar": {
              "outlinewidth": 0,
              "ticks": ""
             }
            },
            "type": "scattergl"
           }
          ],
          "scattermapbox": [
           {
            "marker": {
             "colorbar": {
              "outlinewidth": 0,
              "ticks": ""
             }
            },
            "type": "scattermapbox"
           }
          ],
          "scatterpolar": [
           {
            "marker": {
             "colorbar": {
              "outlinewidth": 0,
              "ticks": ""
             }
            },
            "type": "scatterpolar"
           }
          ],
          "scatterpolargl": [
           {
            "marker": {
             "colorbar": {
              "outlinewidth": 0,
              "ticks": ""
             }
            },
            "type": "scatterpolargl"
           }
          ],
          "scatterternary": [
           {
            "marker": {
             "colorbar": {
              "outlinewidth": 0,
              "ticks": ""
             }
            },
            "type": "scatterternary"
           }
          ],
          "surface": [
           {
            "colorbar": {
             "outlinewidth": 0,
             "ticks": ""
            },
            "colorscale": [
             [
              0,
              "#0d0887"
             ],
             [
              0.1111111111111111,
              "#46039f"
             ],
             [
              0.2222222222222222,
              "#7201a8"
             ],
             [
              0.3333333333333333,
              "#9c179e"
             ],
             [
              0.4444444444444444,
              "#bd3786"
             ],
             [
              0.5555555555555556,
              "#d8576b"
             ],
             [
              0.6666666666666666,
              "#ed7953"
             ],
             [
              0.7777777777777778,
              "#fb9f3a"
             ],
             [
              0.8888888888888888,
              "#fdca26"
             ],
             [
              1,
              "#f0f921"
             ]
            ],
            "type": "surface"
           }
          ],
          "table": [
           {
            "cells": {
             "fill": {
              "color": "#EBF0F8"
             },
             "line": {
              "color": "white"
             }
            },
            "header": {
             "fill": {
              "color": "#C8D4E3"
             },
             "line": {
              "color": "white"
             }
            },
            "type": "table"
           }
          ]
         },
         "layout": {
          "annotationdefaults": {
           "arrowcolor": "#2a3f5f",
           "arrowhead": 0,
           "arrowwidth": 1
          },
          "autotypenumbers": "strict",
          "coloraxis": {
           "colorbar": {
            "outlinewidth": 0,
            "ticks": ""
           }
          },
          "colorscale": {
           "diverging": [
            [
             0,
             "#8e0152"
            ],
            [
             0.1,
             "#c51b7d"
            ],
            [
             0.2,
             "#de77ae"
            ],
            [
             0.3,
             "#f1b6da"
            ],
            [
             0.4,
             "#fde0ef"
            ],
            [
             0.5,
             "#f7f7f7"
            ],
            [
             0.6,
             "#e6f5d0"
            ],
            [
             0.7,
             "#b8e186"
            ],
            [
             0.8,
             "#7fbc41"
            ],
            [
             0.9,
             "#4d9221"
            ],
            [
             1,
             "#276419"
            ]
           ],
           "sequential": [
            [
             0,
             "#0d0887"
            ],
            [
             0.1111111111111111,
             "#46039f"
            ],
            [
             0.2222222222222222,
             "#7201a8"
            ],
            [
             0.3333333333333333,
             "#9c179e"
            ],
            [
             0.4444444444444444,
             "#bd3786"
            ],
            [
             0.5555555555555556,
             "#d8576b"
            ],
            [
             0.6666666666666666,
             "#ed7953"
            ],
            [
             0.7777777777777778,
             "#fb9f3a"
            ],
            [
             0.8888888888888888,
             "#fdca26"
            ],
            [
             1,
             "#f0f921"
            ]
           ],
           "sequentialminus": [
            [
             0,
             "#0d0887"
            ],
            [
             0.1111111111111111,
             "#46039f"
            ],
            [
             0.2222222222222222,
             "#7201a8"
            ],
            [
             0.3333333333333333,
             "#9c179e"
            ],
            [
             0.4444444444444444,
             "#bd3786"
            ],
            [
             0.5555555555555556,
             "#d8576b"
            ],
            [
             0.6666666666666666,
             "#ed7953"
            ],
            [
             0.7777777777777778,
             "#fb9f3a"
            ],
            [
             0.8888888888888888,
             "#fdca26"
            ],
            [
             1,
             "#f0f921"
            ]
           ]
          },
          "colorway": [
           "#636efa",
           "#EF553B",
           "#00cc96",
           "#ab63fa",
           "#FFA15A",
           "#19d3f3",
           "#FF6692",
           "#B6E880",
           "#FF97FF",
           "#FECB52"
          ],
          "font": {
           "color": "#2a3f5f"
          },
          "geo": {
           "bgcolor": "white",
           "lakecolor": "white",
           "landcolor": "#E5ECF6",
           "showlakes": true,
           "showland": true,
           "subunitcolor": "white"
          },
          "hoverlabel": {
           "align": "left"
          },
          "hovermode": "closest",
          "mapbox": {
           "style": "light"
          },
          "paper_bgcolor": "white",
          "plot_bgcolor": "#E5ECF6",
          "polar": {
           "angularaxis": {
            "gridcolor": "white",
            "linecolor": "white",
            "ticks": ""
           },
           "bgcolor": "#E5ECF6",
           "radialaxis": {
            "gridcolor": "white",
            "linecolor": "white",
            "ticks": ""
           }
          },
          "scene": {
           "xaxis": {
            "backgroundcolor": "#E5ECF6",
            "gridcolor": "white",
            "gridwidth": 2,
            "linecolor": "white",
            "showbackground": true,
            "ticks": "",
            "zerolinecolor": "white"
           },
           "yaxis": {
            "backgroundcolor": "#E5ECF6",
            "gridcolor": "white",
            "gridwidth": 2,
            "linecolor": "white",
            "showbackground": true,
            "ticks": "",
            "zerolinecolor": "white"
           },
           "zaxis": {
            "backgroundcolor": "#E5ECF6",
            "gridcolor": "white",
            "gridwidth": 2,
            "linecolor": "white",
            "showbackground": true,
            "ticks": "",
            "zerolinecolor": "white"
           }
          },
          "shapedefaults": {
           "line": {
            "color": "#2a3f5f"
           }
          },
          "ternary": {
           "aaxis": {
            "gridcolor": "white",
            "linecolor": "white",
            "ticks": ""
           },
           "baxis": {
            "gridcolor": "white",
            "linecolor": "white",
            "ticks": ""
           },
           "bgcolor": "#E5ECF6",
           "caxis": {
            "gridcolor": "white",
            "linecolor": "white",
            "ticks": ""
           }
          },
          "title": {
           "x": 0.05
          },
          "xaxis": {
           "automargin": true,
           "gridcolor": "white",
           "linecolor": "white",
           "ticks": "",
           "title": {
            "standoff": 15
           },
           "zerolinecolor": "white",
           "zerolinewidth": 2
          },
          "yaxis": {
           "automargin": true,
           "gridcolor": "white",
           "linecolor": "white",
           "ticks": "",
           "title": {
            "standoff": 15
           },
           "zerolinecolor": "white",
           "zerolinewidth": 2
          }
         }
        },
        "title": {
         "text": "GDP vs CO2 Emissions by Population and Income Group from 1990 to 2020 (Big Countries)"
        },
        "xaxis": {
         "anchor": "y",
         "domain": [
          0,
          1
         ],
         "title": {
          "text": "Average GDP (in USD - log scale)"
         },
         "type": "log"
        },
        "yaxis": {
         "anchor": "x",
         "domain": [
          0,
          1
         ],
         "title": {
          "text": "Average CO2 Emissions (in metric tons - log scale)"
         },
         "type": "log"
        }
       }
      }
     },
     "metadata": {},
     "output_type": "display_data"
    }
   ],
   "source": [
    "from helper_functions import create_bubble_chart\n",
    "\n",
    "# Create bubble chart for small countries data\n",
    "data_label = \"Small Countries\"\n",
    "xaxis_title = \"Average GDP (in USD - log scale)\"\n",
    "yaxis_title = \"Average CO2 Emissions (in metric tons - log scale)\"\n",
    "size = \"Population\"\n",
    "create_bubble_chart(small_countries_data, data_label=data_label, xaxis_title=xaxis_title, yaxis_title=yaxis_title, size=size)\n",
    "\n",
    "# Create bubble chart for big countries data\n",
    "data_label = \"Big Countries\"\n",
    "create_bubble_chart(big_countries_data, data_label=data_label, xaxis_title=xaxis_title, yaxis_title=yaxis_title, size=size)"
   ]
  },
  {
   "cell_type": "markdown",
   "metadata": {},
   "source": [
    "\n",
    "The bubble charts show that higher GDP and larger populations correlate with greater CO2 emissions for both big and small countries from 1990 to 2020. Big countries with high incomes emit more CO2, while smaller economies contribute less. Log scales on both axes make it easy to compare across a broad range of values."
   ]
  },
  {
   "cell_type": "markdown",
   "metadata": {},
   "source": [
    "## GDP vs CO2 Emissions per Capita\n",
    "This analysis examines the relationship between a country's wealth (GDP) and its CO2 emissions on a per capita basis, providing insight into how economic prosperity aligns with individual carbon footprints.\n",
    "\n",
    "### Data Preparation and Analysis\n",
    "\n",
    "To explore this relationship, we calculated the CO2 emissions per capita by dividing the total emissions by the population size. We then assessed how this figure correlates with GDP to determine if higher wealth translates to higher per-person emissions."
   ]
  },
  {
   "cell_type": "code",
   "execution_count": 13,
   "metadata": {},
   "outputs": [
    {
     "name": "stdout",
     "output_type": "stream",
     "text": [
      "Correlation coefficient between GDP and CO2 Emissions per Capita: 0.26\n"
     ]
    }
   ],
   "source": [
    "# Create emissions per capita column\n",
    "total_data[\"CO2 Emissions per Capita\"] = total_data[\"CO2 Emissions\"] / total_data [\"Population\"]\n",
    "\n",
    "# Calculate GDP vs CO2 Emissions per Capita Correlation\n",
    "gdp_co2_per_capita_corr = round(total_data[\"GDP\"].corr(total_data[\"CO2 Emissions per Capita\"]), 2)\n",
    "print(f\"Correlation coefficient between GDP and CO2 Emissions per Capita: {gdp_co2_per_capita_corr}\")\n"
   ]
  },
  {
   "cell_type": "markdown",
   "metadata": {},
   "source": [
    "### Scatter Plot\n",
    "\n",
    "A scatter plot was created to visualize this correlation, with GDP on a log scale to accommodate the wide range of economic sizes."
   ]
  },
  {
   "cell_type": "code",
   "execution_count": 14,
   "metadata": {},
   "outputs": [
    {
     "data": {
      "application/vnd.plotly.v1+json": {
       "config": {
        "plotlyServerURL": "https://plot.ly"
       },
       "data": [
        {
         "hovertemplate": "<b>%{hovertext}</b><br><br>Income Group=Low income<br>GDP=%{x:.2s}<br>CO2 Emissions per Capita=%{y:.2s}<extra></extra>",
         "hovertext": [
          "Afghanistan",
          "Burundi",
          "Burkina Faso",
          "Central African Republic",
          "Congo, Dem. Rep.",
          "Eritrea",
          "Ethiopia",
          "Gambia, The",
          "Guinea-Bissau",
          "Liberia",
          "Madagascar",
          "Mali",
          "Mozambique",
          "Malawi",
          "Niger",
          "Rwanda",
          "Sudan",
          "Sierra Leone",
          "Somalia",
          "South Sudan",
          "Syrian Arab Republic",
          "Chad",
          "Togo",
          "Uganda",
          "Yemen, Rep."
         ],
         "legendgroup": "Low income",
         "marker": {
          "color": "rgba(230, 25, 75, 0.8)",
          "symbol": "circle"
         },
         "mode": "markers",
         "name": "Low income",
         "orientation": "v",
         "showlegend": true,
         "type": "scatter",
         "x": [
          14129277598.894737,
          1591197406.548387,
          7690445429.5161295,
          1556370205.7258065,
          19828287896.129032,
          977773745.195,
          30939958636.419353,
          1091102334.9645162,
          683316446.9870967,
          2127428409.5238094,
          7854889639.903226,
          7987593923.096774,
          9325972636.6,
          6073202964.354838,
          6108997321.612904,
          4611463841.629032,
          41550927047.83871,
          2171696205.290323,
          5135671582,
          14080606755.625,
          76545284354.32259,
          6358483731.16129,
          3804396122.774194,
          15915787923.67742,
          18230152874.03448
         ],
         "xaxis": "x",
         "y": [
          0.0001972580525779285,
          0.00003753698947858137,
          0.00013918484557020775,
          0.00004759379140034101,
          0.00004183267883299977,
          0.00021201177685532875,
          0.00008930243306010685,
          0.0002153724761061339,
          0.0001553262600412537,
          0.00020396851952934197,
          0.00010263355532883407,
          0.00013251717074837976,
          0.00013902012868510327,
          0.00007619191023136695,
          0.00007598907998785227,
          0.00008073361171435796,
          0.0003776361996471484,
          0.0001038952489876919,
          0.000057744067350671584,
          0.00012336096133785457,
          0.0023320419299755145,
          0.00008559634760650056,
          0.00027858562152988147,
          0.00009088759222827559,
          0.0007241925043383885
         ],
         "yaxis": "y"
        },
        {
         "hovertemplate": "<b>%{hovertext}</b><br><br>Income Group=Lower middle income<br>GDP=%{x:.2s}<br>CO2 Emissions per Capita=%{y:.2s}<extra></extra>",
         "hovertext": [
          "Angola",
          "Benin",
          "Bangladesh",
          "Bolivia",
          "Bhutan",
          "Côte d'Ivoire",
          "Cameroon",
          "Congo, Rep.",
          "Comoros",
          "Cabo Verde",
          "Djibouti",
          "Algeria",
          "Egypt, Arab Rep.",
          "Micronesia, Fed. Sts.",
          "Ghana",
          "Guinea",
          "Honduras",
          "Haiti",
          "India",
          "Iran, Islamic Rep.",
          "Jordan",
          "Kenya",
          "Kyrgyz Republic",
          "Cambodia",
          "Kiribati",
          "Lao PDR",
          "Lebanon",
          "Sri Lanka",
          "Lesotho",
          "Morocco",
          "Myanmar",
          "Mongolia",
          "Mauritania",
          "Nigeria",
          "Nicaragua",
          "Nepal",
          "Pakistan",
          "Philippines",
          "Papua New Guinea",
          "Senegal",
          "Solomon Islands",
          "São Tomé and Principe",
          "Eswatini",
          "Tajikistan",
          "Timor-Leste",
          "Tunisia",
          "Tanzania",
          "Ukraine",
          "Uzbekistan",
          "Vietnam",
          "Vanuatu",
          "Samoa",
          "Zambia",
          "Zimbabwe"
         ],
         "legendgroup": "Lower middle income",
         "marker": {
          "color": "rgba(245, 130, 48, 0.8)",
          "symbol": "circle"
         },
         "mode": "markers",
         "name": "Lower middle income",
         "orientation": "v",
         "showlegend": true,
         "type": "scatter",
         "x": [
          47265268525.19355,
          7227485969.096774,
          116069399250.32259,
          17175573842.387096,
          1085414589.2451613,
          29268804263.677418,
          22148478801,
          7702200203.67742,
          715411274.3,
          1202560220.7129033,
          1200839756.483871,
          111201382994.54839,
          158903620866.58066,
          267546890.32258064,
          26195051072.83871,
          5891159225.83871,
          12374812060.451612,
          8542425734.225806,
          1171646322580.6453,
          279639217591.34485,
          19817325526.19355,
          36208835444.258064,
          4048303300.83871,
          10538129870.642857,
          114934394.47806452,
          6450546780.396773,
          27244211357.548386,
          40970476573.548386,
          1563024739.9935484,
          75521353953.06451,
          27097289233.83871,
          5534223334.174193,
          4096728548.516129,
          233020125757.9355,
          7305691275,
          13200847152.516129,
          152600483052.2903,
          168835432482.9355,
          11061809247.161291,
          12712702184.774193,
          776539790.1064516,
          242865813.41150004,
          2888153036.903226,
          4064563319.709677,
          1028503961.9047619,
          32046574427.419353,
          25562343287.451614,
          97312088817.19354,
          33986233853.612904,
          113076094356.45161,
          490490145.64838713,
          496642339.6,
          12485194019.870968,
          11433551412.483871
         ],
         "xaxis": "x",
         "y": [
          0.0008933700085259884,
          0.0003900620031606227,
          0.00029964716889682285,
          0.0013907437424011875,
          0.0008956626214620538,
          0.00033774969787848166,
          0.0003583088741725671,
          0.0011334704431209856,
          0.000244216699647299,
          0.0008306887686789847,
          0.000481692610528133,
          0.0031382167685449175,
          0.0019885938706310355,
          0.0013014082409223253,
          0.0003694832142607937,
          0.00021603546220039197,
          0.0009030245419312674,
          0.0002148328722132231,
          0.0011836100784558012,
          0.00615960393871509,
          0.002866038183322789,
          0.00030243006860007323,
          0.0015941374115134535,
          0.0003827254812969481,
          0.0004877951840121243,
          0.0007756451217482556,
          0.003800201566587543,
          0.0006522505720946882,
          0.0009742483426102187,
          0.0014327619765211227,
          0.0002646780089057193,
          0.005181575517898198,
          0.0005792618695234564,
          0.0006619803221509299,
          0.0007269480643636127,
          0.00019434072029200298,
          0.0007119953460864376,
          0.0009472142004673297,
          0.0006349109909027698,
          0.0005201518366737379,
          0.000543880119677648,
          0.0005021022408810521,
          0.0010053297456965647,
          0.0006062862899552629,
          0.0002009126642248471,
          0.0022796047735811654,
          0.00015042773951354685,
          0.006710654970603761,
          0.004319184121427942,
          0.0014117910624203663,
          0.00045760298678843486,
          0.0009103278150651122,
          0.0002708556540566193,
          0.0009895914418719773
         ],
         "yaxis": "y"
        },
        {
         "hovertemplate": "<b>%{hovertext}</b><br><br>Income Group=Upper middle income<br>GDP=%{x:.2s}<br>CO2 Emissions per Capita=%{y:.2s}<extra></extra>",
         "hovertext": [
          "Albania",
          "Argentina",
          "Armenia",
          "Azerbaijan",
          "Bulgaria",
          "Bosnia and Herzegovina",
          "Belarus",
          "Belize",
          "Brazil",
          "Botswana",
          "China",
          "Colombia",
          "Costa Rica",
          "Cuba",
          "Dominica",
          "Dominican Republic",
          "Ecuador",
          "Fiji",
          "Gabon",
          "Georgia",
          "Equatorial Guinea",
          "Grenada",
          "Guatemala",
          "Indonesia",
          "Iraq",
          "Jamaica",
          "Kazakhstan",
          "Libya",
          "St. Lucia",
          "Moldova",
          "Maldives",
          "Mexico",
          "Marshall Islands",
          "North Macedonia",
          "Montenegro",
          "Mauritius",
          "Malaysia",
          "Namibia",
          "Peru",
          "Palau",
          "Paraguay",
          "Russian Federation",
          "El Salvador",
          "Serbia",
          "Suriname",
          "Thailand",
          "Turkmenistan",
          "Tonga",
          "Türkiye",
          "Tuvalu",
          "St. Vincent and the Grenadines",
          "South Africa"
         ],
         "legendgroup": "Upper middle income",
         "marker": {
          "color": "rgba(0, 130, 200, 0.8)",
          "symbol": "circle"
         },
         "mode": "markers",
         "name": "Upper middle income",
         "orientation": "v",
         "showlegend": true,
         "type": "scatter",
         "x": [
          7828514791.864515,
          340255193685.5484,
          6266122746.16129,
          27010307444.890324,
          35022481563.70968,
          12390888821.962963,
          36986529041.70968,
          1462387096.7741935,
          1260417645161.2903,
          9498293651.580645,
          4918369870967.742,
          188788170669.7097,
          29537068391.935482,
          52771876315.51613,
          398001194.7483871,
          41043685176.258064,
          53983359913.3871,
          3030333203.548387,
          10269716571.548388,
          9074687026.67742,
          8217022096.616129,
          670506245.6419356,
          34930196544.741936,
          487407533802.35486,
          99324227561.14194,
          10696263286.096775,
          92970775002.3871,
          47870696575.451614,
          1231501157.664516,
          5475633948.576923,
          1965947479.1612904,
          840276419354.8387,
          147130238.70967743,
          7213882355.419354,
          3596019144.090476,
          7789215918.83871,
          183922114663.58066,
          7523686669.419354,
          109697317061.58064,
          213865523.80952382,
          19707037375.29032,
          1001400193548.3871,
          15591467725.935484,
          34589659613.88461,
          2395705522.8903227,
          258905932346.09677,
          17166070638.129032,
          297137860.62258065,
          506252354838.70966,
          25810624.65848387,
          572204669.7741935,
          265556580645.1613
         ],
         "xaxis": "x",
         "y": [
          0.0012831712755662257,
          0.003743254196438683,
          0.0018421693076984109,
          0.003813519606203423,
          0.006203307344783054,
          0.004302410095136003,
          0.006287899988513442,
          0.001714852738747556,
          0.0018661677079261276,
          0.002320855392844563,
          0.004780297543711298,
          0.001542725488511544,
          0.0014423033753198132,
          0.002382793874836297,
          0.001896526979144727,
          0.0019987371011224104,
          0.002101500075844228,
          0.0011516900433027433,
          0.0035950190518195336,
          0.0021613581573084063,
          0.004101780519899448,
          0.0020475156614300615,
          0.0008372948974215928,
          0.0015635904407388906,
          0.0036884915870232632,
          0.003297647159896716,
          0.011886027927905307,
          0.008361158242643447,
          0.002461255861244889,
          0.003606191099576816,
          0.0023508540368656202,
          0.003823541032120629,
          0.0022062395567811035,
          0.004114958109538364,
          0.0031897257156311217,
          0.002367243803302229,
          0.006213845535221202,
          0.0014091511930303324,
          0.0013098161898071256,
          0.010745833325958952,
          0.000857043332062774,
          0.01146477054364692,
          0.0009901640748636437,
          0.006601777941992045,
          0.0038860471437532607,
          0.0031500930863482468,
          0.009917174350861976,
          0.0010660444581057102,
          0.0037735017616227742,
          0.0008579791100738418,
          0.0017690614461935976,
          0.007176884300766498
         ],
         "yaxis": "y"
        },
        {
         "hovertemplate": "<b>%{hovertext}</b><br><br>Income Group=High income<br>GDP=%{x:.2s}<br>CO2 Emissions per Capita=%{y:.2s}<extra></extra>",
         "hovertext": [
          "Andorra",
          "United Arab Emirates",
          "Antigua and Barbuda",
          "Australia",
          "Austria",
          "Belgium",
          "Bahrain",
          "Bahamas, The",
          "Barbados",
          "Brunei Darussalam",
          "Canada",
          "Switzerland",
          "Chile",
          "Cyprus",
          "Czechia",
          "Germany",
          "Denmark",
          "Spain",
          "Estonia",
          "Finland",
          "France",
          "United Kingdom",
          "Greece",
          "Guyana",
          "Croatia",
          "Hungary",
          "Ireland",
          "Iceland",
          "Israel",
          "Italy",
          "Japan",
          "St. Kitts and Nevis",
          "Korea, Rep.",
          "Kuwait",
          "Liechtenstein",
          "Lithuania",
          "Luxembourg",
          "Latvia",
          "Malta",
          "Netherlands",
          "Norway",
          "Nauru",
          "New Zealand",
          "Oman",
          "Panama",
          "Poland",
          "Portugal",
          "Qatar",
          "Romania",
          "Saudi Arabia",
          "Singapore",
          "Slovak Republic",
          "Slovenia",
          "Sweden",
          "Seychelles",
          "Trinidad and Tobago",
          "Uruguay",
          "United States"
         ],
         "legendgroup": "High income",
         "marker": {
          "color": "rgba(60, 180, 75, 0.8)",
          "symbol": "circle"
         },
         "mode": "markers",
         "name": "High income",
         "orientation": "v",
         "showlegend": true,
         "type": "scatter",
         "x": [
          2400224067.225806,
          213966121416.19354,
          1003713500.5870968,
          816629290322.5807,
          314199580645.1613,
          378879548387.0968,
          18489783151.35484,
          8442739032.258064,
          3667486889.967742,
          9532966117.838709,
          1160101064516.1292,
          477048064516.129,
          151042358213.58066,
          17051399398.451612,
          138528243181.2903,
          2905131612903.2256,
          253081096774.19354,
          1019856129032.258,
          17278018711.26923,
          196646842409.9355,
          2092219032258.0645,
          2162663870967.742,
          198103777161.3871,
          2252796749.080645,
          45780204498.38461,
          98992923969.56667,
          191188433304.90323,
          13707717872.096775,
          220163269230.76923,
          1686008709677.4194,
          4809141612903.226,
          618821297.5580645,
          935269806451.6129,
          81192403720.87097,
          4013269220.354839,
          31749697321.76923,
          40971473892.258064,
          21052643930.807693,
          7405571360.451612,
          647652096774.1936,
          297174000000,
          98166088.55,
          116921723469.03226,
          43976866697.451614,
          26983905280.967743,
          327538222162.4516,
          176062156538.7097,
          79324511537.54839,
          116984491624.90323,
          402472129032.25806,
          179664876651.64517,
          61620887511.09677,
          38874994317.88461,
          399231225806.4516,
          921563038.5129033,
          15640582211.774193,
          32814439123.225807,
          12981739032258.064
         ],
         "xaxis": "x",
         "y": [
          0.006971757608631627,
          0.022907924430571627,
          0.0046891004214857845,
          0.016903633649666853,
          0.007937979752819745,
          0.009977052024928268,
          0.022025570183796632,
          0.006136220037902538,
          0.004535584635553338,
          0.016337203610640588,
          0.01582856884432215,
          0.005641326786091075,
          0.0037209910748441342,
          0.006743808328138855,
          0.011325331115971591,
          0.009848362316938341,
          0.009101547655506793,
          0.0062236581654163394,
          0.012690086685614464,
          0.01041537594601757,
          0.00553468474314047,
          0.00796882213889802,
          0.007691516366753573,
          0.0023377088462925954,
          0.00415393436725806,
          0.005242263930331287,
          0.009201860247845266,
          0.00673364502084445,
          0.00832141936476968,
          0.006845619142887289,
          0.009188075408503887,
          0.004264189868969823,
          0.010035921636335064,
          0.023787012074942358,
          0.005759673272222756,
          0.004256790665705765,
          0.020707783458825554,
          0.00393244509841077,
          0.0055934283944422715,
          0.009873307776182864,
          0.007702470405490189,
          0.006853479128276198,
          0.007222999652918829,
          0.013745972831679842,
          0.002152378140010224,
          0.008192807964239573,
          0.005093609517244769,
          0.03664543041927187,
          0.004524975231968756,
          0.013808193580594853,
          0.008908998376810666,
          0.0070261469855412975,
          0.007268318001608089,
          0.005281675397835914,
          0.004425095794992962,
          0.011385471387064954,
          0.0017877373812637167,
          0.017845092396097145
         ],
         "yaxis": "y"
        }
       ],
       "layout": {
        "legend": {
         "title": {
          "text": "Income Group"
         },
         "tracegroupgap": 0
        },
        "template": {
         "data": {
          "bar": [
           {
            "error_x": {
             "color": "#2a3f5f"
            },
            "error_y": {
             "color": "#2a3f5f"
            },
            "marker": {
             "line": {
              "color": "#E5ECF6",
              "width": 0.5
             },
             "pattern": {
              "fillmode": "overlay",
              "size": 10,
              "solidity": 0.2
             }
            },
            "type": "bar"
           }
          ],
          "barpolar": [
           {
            "marker": {
             "line": {
              "color": "#E5ECF6",
              "width": 0.5
             },
             "pattern": {
              "fillmode": "overlay",
              "size": 10,
              "solidity": 0.2
             }
            },
            "type": "barpolar"
           }
          ],
          "carpet": [
           {
            "aaxis": {
             "endlinecolor": "#2a3f5f",
             "gridcolor": "white",
             "linecolor": "white",
             "minorgridcolor": "white",
             "startlinecolor": "#2a3f5f"
            },
            "baxis": {
             "endlinecolor": "#2a3f5f",
             "gridcolor": "white",
             "linecolor": "white",
             "minorgridcolor": "white",
             "startlinecolor": "#2a3f5f"
            },
            "type": "carpet"
           }
          ],
          "choropleth": [
           {
            "colorbar": {
             "outlinewidth": 0,
             "ticks": ""
            },
            "type": "choropleth"
           }
          ],
          "contour": [
           {
            "colorbar": {
             "outlinewidth": 0,
             "ticks": ""
            },
            "colorscale": [
             [
              0,
              "#0d0887"
             ],
             [
              0.1111111111111111,
              "#46039f"
             ],
             [
              0.2222222222222222,
              "#7201a8"
             ],
             [
              0.3333333333333333,
              "#9c179e"
             ],
             [
              0.4444444444444444,
              "#bd3786"
             ],
             [
              0.5555555555555556,
              "#d8576b"
             ],
             [
              0.6666666666666666,
              "#ed7953"
             ],
             [
              0.7777777777777778,
              "#fb9f3a"
             ],
             [
              0.8888888888888888,
              "#fdca26"
             ],
             [
              1,
              "#f0f921"
             ]
            ],
            "type": "contour"
           }
          ],
          "contourcarpet": [
           {
            "colorbar": {
             "outlinewidth": 0,
             "ticks": ""
            },
            "type": "contourcarpet"
           }
          ],
          "heatmap": [
           {
            "colorbar": {
             "outlinewidth": 0,
             "ticks": ""
            },
            "colorscale": [
             [
              0,
              "#0d0887"
             ],
             [
              0.1111111111111111,
              "#46039f"
             ],
             [
              0.2222222222222222,
              "#7201a8"
             ],
             [
              0.3333333333333333,
              "#9c179e"
             ],
             [
              0.4444444444444444,
              "#bd3786"
             ],
             [
              0.5555555555555556,
              "#d8576b"
             ],
             [
              0.6666666666666666,
              "#ed7953"
             ],
             [
              0.7777777777777778,
              "#fb9f3a"
             ],
             [
              0.8888888888888888,
              "#fdca26"
             ],
             [
              1,
              "#f0f921"
             ]
            ],
            "type": "heatmap"
           }
          ],
          "heatmapgl": [
           {
            "colorbar": {
             "outlinewidth": 0,
             "ticks": ""
            },
            "colorscale": [
             [
              0,
              "#0d0887"
             ],
             [
              0.1111111111111111,
              "#46039f"
             ],
             [
              0.2222222222222222,
              "#7201a8"
             ],
             [
              0.3333333333333333,
              "#9c179e"
             ],
             [
              0.4444444444444444,
              "#bd3786"
             ],
             [
              0.5555555555555556,
              "#d8576b"
             ],
             [
              0.6666666666666666,
              "#ed7953"
             ],
             [
              0.7777777777777778,
              "#fb9f3a"
             ],
             [
              0.8888888888888888,
              "#fdca26"
             ],
             [
              1,
              "#f0f921"
             ]
            ],
            "type": "heatmapgl"
           }
          ],
          "histogram": [
           {
            "marker": {
             "pattern": {
              "fillmode": "overlay",
              "size": 10,
              "solidity": 0.2
             }
            },
            "type": "histogram"
           }
          ],
          "histogram2d": [
           {
            "colorbar": {
             "outlinewidth": 0,
             "ticks": ""
            },
            "colorscale": [
             [
              0,
              "#0d0887"
             ],
             [
              0.1111111111111111,
              "#46039f"
             ],
             [
              0.2222222222222222,
              "#7201a8"
             ],
             [
              0.3333333333333333,
              "#9c179e"
             ],
             [
              0.4444444444444444,
              "#bd3786"
             ],
             [
              0.5555555555555556,
              "#d8576b"
             ],
             [
              0.6666666666666666,
              "#ed7953"
             ],
             [
              0.7777777777777778,
              "#fb9f3a"
             ],
             [
              0.8888888888888888,
              "#fdca26"
             ],
             [
              1,
              "#f0f921"
             ]
            ],
            "type": "histogram2d"
           }
          ],
          "histogram2dcontour": [
           {
            "colorbar": {
             "outlinewidth": 0,
             "ticks": ""
            },
            "colorscale": [
             [
              0,
              "#0d0887"
             ],
             [
              0.1111111111111111,
              "#46039f"
             ],
             [
              0.2222222222222222,
              "#7201a8"
             ],
             [
              0.3333333333333333,
              "#9c179e"
             ],
             [
              0.4444444444444444,
              "#bd3786"
             ],
             [
              0.5555555555555556,
              "#d8576b"
             ],
             [
              0.6666666666666666,
              "#ed7953"
             ],
             [
              0.7777777777777778,
              "#fb9f3a"
             ],
             [
              0.8888888888888888,
              "#fdca26"
             ],
             [
              1,
              "#f0f921"
             ]
            ],
            "type": "histogram2dcontour"
           }
          ],
          "mesh3d": [
           {
            "colorbar": {
             "outlinewidth": 0,
             "ticks": ""
            },
            "type": "mesh3d"
           }
          ],
          "parcoords": [
           {
            "line": {
             "colorbar": {
              "outlinewidth": 0,
              "ticks": ""
             }
            },
            "type": "parcoords"
           }
          ],
          "pie": [
           {
            "automargin": true,
            "type": "pie"
           }
          ],
          "scatter": [
           {
            "fillpattern": {
             "fillmode": "overlay",
             "size": 10,
             "solidity": 0.2
            },
            "type": "scatter"
           }
          ],
          "scatter3d": [
           {
            "line": {
             "colorbar": {
              "outlinewidth": 0,
              "ticks": ""
             }
            },
            "marker": {
             "colorbar": {
              "outlinewidth": 0,
              "ticks": ""
             }
            },
            "type": "scatter3d"
           }
          ],
          "scattercarpet": [
           {
            "marker": {
             "colorbar": {
              "outlinewidth": 0,
              "ticks": ""
             }
            },
            "type": "scattercarpet"
           }
          ],
          "scattergeo": [
           {
            "marker": {
             "colorbar": {
              "outlinewidth": 0,
              "ticks": ""
             }
            },
            "type": "scattergeo"
           }
          ],
          "scattergl": [
           {
            "marker": {
             "colorbar": {
              "outlinewidth": 0,
              "ticks": ""
             }
            },
            "type": "scattergl"
           }
          ],
          "scattermapbox": [
           {
            "marker": {
             "colorbar": {
              "outlinewidth": 0,
              "ticks": ""
             }
            },
            "type": "scattermapbox"
           }
          ],
          "scatterpolar": [
           {
            "marker": {
             "colorbar": {
              "outlinewidth": 0,
              "ticks": ""
             }
            },
            "type": "scatterpolar"
           }
          ],
          "scatterpolargl": [
           {
            "marker": {
             "colorbar": {
              "outlinewidth": 0,
              "ticks": ""
             }
            },
            "type": "scatterpolargl"
           }
          ],
          "scatterternary": [
           {
            "marker": {
             "colorbar": {
              "outlinewidth": 0,
              "ticks": ""
             }
            },
            "type": "scatterternary"
           }
          ],
          "surface": [
           {
            "colorbar": {
             "outlinewidth": 0,
             "ticks": ""
            },
            "colorscale": [
             [
              0,
              "#0d0887"
             ],
             [
              0.1111111111111111,
              "#46039f"
             ],
             [
              0.2222222222222222,
              "#7201a8"
             ],
             [
              0.3333333333333333,
              "#9c179e"
             ],
             [
              0.4444444444444444,
              "#bd3786"
             ],
             [
              0.5555555555555556,
              "#d8576b"
             ],
             [
              0.6666666666666666,
              "#ed7953"
             ],
             [
              0.7777777777777778,
              "#fb9f3a"
             ],
             [
              0.8888888888888888,
              "#fdca26"
             ],
             [
              1,
              "#f0f921"
             ]
            ],
            "type": "surface"
           }
          ],
          "table": [
           {
            "cells": {
             "fill": {
              "color": "#EBF0F8"
             },
             "line": {
              "color": "white"
             }
            },
            "header": {
             "fill": {
              "color": "#C8D4E3"
             },
             "line": {
              "color": "white"
             }
            },
            "type": "table"
           }
          ]
         },
         "layout": {
          "annotationdefaults": {
           "arrowcolor": "#2a3f5f",
           "arrowhead": 0,
           "arrowwidth": 1
          },
          "autotypenumbers": "strict",
          "coloraxis": {
           "colorbar": {
            "outlinewidth": 0,
            "ticks": ""
           }
          },
          "colorscale": {
           "diverging": [
            [
             0,
             "#8e0152"
            ],
            [
             0.1,
             "#c51b7d"
            ],
            [
             0.2,
             "#de77ae"
            ],
            [
             0.3,
             "#f1b6da"
            ],
            [
             0.4,
             "#fde0ef"
            ],
            [
             0.5,
             "#f7f7f7"
            ],
            [
             0.6,
             "#e6f5d0"
            ],
            [
             0.7,
             "#b8e186"
            ],
            [
             0.8,
             "#7fbc41"
            ],
            [
             0.9,
             "#4d9221"
            ],
            [
             1,
             "#276419"
            ]
           ],
           "sequential": [
            [
             0,
             "#0d0887"
            ],
            [
             0.1111111111111111,
             "#46039f"
            ],
            [
             0.2222222222222222,
             "#7201a8"
            ],
            [
             0.3333333333333333,
             "#9c179e"
            ],
            [
             0.4444444444444444,
             "#bd3786"
            ],
            [
             0.5555555555555556,
             "#d8576b"
            ],
            [
             0.6666666666666666,
             "#ed7953"
            ],
            [
             0.7777777777777778,
             "#fb9f3a"
            ],
            [
             0.8888888888888888,
             "#fdca26"
            ],
            [
             1,
             "#f0f921"
            ]
           ],
           "sequentialminus": [
            [
             0,
             "#0d0887"
            ],
            [
             0.1111111111111111,
             "#46039f"
            ],
            [
             0.2222222222222222,
             "#7201a8"
            ],
            [
             0.3333333333333333,
             "#9c179e"
            ],
            [
             0.4444444444444444,
             "#bd3786"
            ],
            [
             0.5555555555555556,
             "#d8576b"
            ],
            [
             0.6666666666666666,
             "#ed7953"
            ],
            [
             0.7777777777777778,
             "#fb9f3a"
            ],
            [
             0.8888888888888888,
             "#fdca26"
            ],
            [
             1,
             "#f0f921"
            ]
           ]
          },
          "colorway": [
           "#636efa",
           "#EF553B",
           "#00cc96",
           "#ab63fa",
           "#FFA15A",
           "#19d3f3",
           "#FF6692",
           "#B6E880",
           "#FF97FF",
           "#FECB52"
          ],
          "font": {
           "color": "#2a3f5f"
          },
          "geo": {
           "bgcolor": "white",
           "lakecolor": "white",
           "landcolor": "#E5ECF6",
           "showlakes": true,
           "showland": true,
           "subunitcolor": "white"
          },
          "hoverlabel": {
           "align": "left"
          },
          "hovermode": "closest",
          "mapbox": {
           "style": "light"
          },
          "paper_bgcolor": "white",
          "plot_bgcolor": "#E5ECF6",
          "polar": {
           "angularaxis": {
            "gridcolor": "white",
            "linecolor": "white",
            "ticks": ""
           },
           "bgcolor": "#E5ECF6",
           "radialaxis": {
            "gridcolor": "white",
            "linecolor": "white",
            "ticks": ""
           }
          },
          "scene": {
           "xaxis": {
            "backgroundcolor": "#E5ECF6",
            "gridcolor": "white",
            "gridwidth": 2,
            "linecolor": "white",
            "showbackground": true,
            "ticks": "",
            "zerolinecolor": "white"
           },
           "yaxis": {
            "backgroundcolor": "#E5ECF6",
            "gridcolor": "white",
            "gridwidth": 2,
            "linecolor": "white",
            "showbackground": true,
            "ticks": "",
            "zerolinecolor": "white"
           },
           "zaxis": {
            "backgroundcolor": "#E5ECF6",
            "gridcolor": "white",
            "gridwidth": 2,
            "linecolor": "white",
            "showbackground": true,
            "ticks": "",
            "zerolinecolor": "white"
           }
          },
          "shapedefaults": {
           "line": {
            "color": "#2a3f5f"
           }
          },
          "ternary": {
           "aaxis": {
            "gridcolor": "white",
            "linecolor": "white",
            "ticks": ""
           },
           "baxis": {
            "gridcolor": "white",
            "linecolor": "white",
            "ticks": ""
           },
           "bgcolor": "#E5ECF6",
           "caxis": {
            "gridcolor": "white",
            "linecolor": "white",
            "ticks": ""
           }
          },
          "title": {
           "x": 0.05
          },
          "xaxis": {
           "automargin": true,
           "gridcolor": "white",
           "linecolor": "white",
           "ticks": "",
           "title": {
            "standoff": 15
           },
           "zerolinecolor": "white",
           "zerolinewidth": 2
          },
          "yaxis": {
           "automargin": true,
           "gridcolor": "white",
           "linecolor": "white",
           "ticks": "",
           "title": {
            "standoff": 15
           },
           "zerolinecolor": "white",
           "zerolinewidth": 2
          }
         }
        },
        "title": {
         "text": "GDP vs CO2 Emissions per Capita and Income Group from 1990 to 2020 (All Countries)"
        },
        "xaxis": {
         "anchor": "y",
         "domain": [
          0,
          1
         ],
         "title": {
          "text": "Average GDP (in USD - log scale)"
         },
         "type": "log"
        },
        "yaxis": {
         "anchor": "x",
         "domain": [
          0,
          1
         ],
         "title": {
          "text": "Average CO2 Emissions per Capita (in metric tons - log scale)"
         },
         "type": "log"
        }
       }
      }
     },
     "metadata": {},
     "output_type": "display_data"
    }
   ],
   "source": [
    "# Create scatter plot\n",
    "data_label = \"All Countries\"\n",
    "xaxis_title = \"Average GDP (in USD - log scale)\"\n",
    "yaxis_title = \"Average CO2 Emissions per Capita (in metric tons - log scale)\"\n",
    "y = \"CO2 Emissions per Capita\"\n",
    "create_bubble_chart(total_data, data_label=data_label, xaxis_title=xaxis_title, yaxis_title=yaxis_title, y=y)"
   ]
  },
  {
   "cell_type": "markdown",
   "metadata": {},
   "source": [
    "The correlation coefficient of **0.26** and dispersion of data points in the scatter plot suggests a weak relationship between a country's GDP and its per capita CO2 emissions, indicating that higher wealth does not necessarily lead to higher individual carbon emissions."
   ]
  },
  {
   "cell_type": "markdown",
   "metadata": {},
   "source": [
    "## CO2 Emissions and Global Average Temperature Trend\n",
    "\n",
    "This section explores the trend between global CO2 emissions and average temperatures, assessing their potential connection and how they may jointly influence climate patterns.\n",
    "\n",
    "### Data Preparation and Analysis\n",
    "Average yearly temperatures and CO2 emissions data were synchronized from 1990 to 2013 to ensure comparability. We then calculated the correlation between these two variables to quantify their relationship. The analysis yielded a correlation coefficient of 0.26, suggesting a relatively weak connection between the global temperature rise and CO2 emissions over the period studied.\n"
   ]
  },
  {
   "cell_type": "code",
   "execution_count": 15,
   "metadata": {},
   "outputs": [
    {
     "name": "stdout",
     "output_type": "stream",
     "text": [
      "Correlation coefficient between CO2 Emissions and Global Average Temperature: 0.72\n"
     ]
    }
   ],
   "source": [
    "# Load temperature data\n",
    "temp_data = pd.read_csv(\"data/clean_data/cleaned_temp_data.csv\")\n",
    "\n",
    "# Get average temperature for each year\n",
    "annual_average_temperature = temp_data.groupby(\"Year\")[\"Temperature\"].mean().reset_index()\n",
    "\n",
    "# Filter C02 data to have same data range as temperature data (1990 - 2013)\n",
    "annual_global_emissions_filtered = annual_global_emissions[annual_global_emissions[\"Year\"] < 2014]\n",
    "\n",
    "# Calculate CO2 Emissions vs Global Average Temperature Correlation\n",
    "co2_temp_corr = round( annual_global_emissions_filtered[\"CO2 Emissions\"].corr(annual_average_temperature[\"Temperature\"]), 2)\n",
    "print(f\"Correlation coefficient between CO2 Emissions and Global Average Temperature: {co2_temp_corr}\")\n"
   ]
  },
  {
   "cell_type": "markdown",
   "metadata": {},
   "source": [
    "## Dual-axis Line Chart\n",
    "To illustrate these trends, we employ a dual-axis line chart that concurrently tracks the changes in CO2 emissions and average temperatures."
   ]
  },
  {
   "cell_type": "code",
   "execution_count": 17,
   "metadata": {},
   "outputs": [
    {
     "ename": "NameError",
     "evalue": "name 'go' is not defined",
     "output_type": "error",
     "traceback": [
      "\u001b[1;31m---------------------------------------------------------------------------\u001b[0m",
      "\u001b[1;31mNameError\u001b[0m                                 Traceback (most recent call last)",
      "Cell \u001b[1;32mIn[17], line 8\u001b[0m\n\u001b[0;32m      4\u001b[0m fig \u001b[38;5;241m=\u001b[39m make_subplots(specs\u001b[38;5;241m=\u001b[39m[[{\u001b[38;5;124m\"\u001b[39m\u001b[38;5;124msecondary_y\u001b[39m\u001b[38;5;124m\"\u001b[39m: \u001b[38;5;28;01mTrue\u001b[39;00m}]])\n\u001b[0;32m      6\u001b[0m \u001b[38;5;66;03m# Add Global CO2 Emissions to the primary y-axis\u001b[39;00m\n\u001b[0;32m      7\u001b[0m fig\u001b[38;5;241m.\u001b[39madd_trace(\n\u001b[1;32m----> 8\u001b[0m     \u001b[43mgo\u001b[49m\u001b[38;5;241m.\u001b[39mScatter(x\u001b[38;5;241m=\u001b[39mannual_global_emissions_filtered[\u001b[38;5;124m\"\u001b[39m\u001b[38;5;124mYear\u001b[39m\u001b[38;5;124m\"\u001b[39m], \n\u001b[0;32m      9\u001b[0m                y\u001b[38;5;241m=\u001b[39mannual_global_emissions_filtered[\u001b[38;5;124m\"\u001b[39m\u001b[38;5;124mCO2 Emissions\u001b[39m\u001b[38;5;124m\"\u001b[39m], \n\u001b[0;32m     10\u001b[0m                name\u001b[38;5;241m=\u001b[39m\u001b[38;5;124m'\u001b[39m\u001b[38;5;124mCO2 Emissions\u001b[39m\u001b[38;5;124m'\u001b[39m, \n\u001b[0;32m     11\u001b[0m                hovertemplate\u001b[38;5;241m=\u001b[39m\u001b[38;5;124m'\u001b[39m\u001b[38;5;124m%\u001b[39m\u001b[38;5;132;01m{x}\u001b[39;00m\u001b[38;5;124m<br>CO2 Emissions: \u001b[39m\u001b[38;5;124m%\u001b[39m\u001b[38;5;132;01m{y:.2s}\u001b[39;00m\u001b[38;5;124m<extra></extra>\u001b[39m\u001b[38;5;124m'\u001b[39m),\n\u001b[0;32m     12\u001b[0m     secondary_y\u001b[38;5;241m=\u001b[39m\u001b[38;5;28;01mFalse\u001b[39;00m)\n\u001b[0;32m     14\u001b[0m \u001b[38;5;66;03m# Add Global Average Temperature to the secondary y-axis\u001b[39;00m\n\u001b[0;32m     15\u001b[0m fig\u001b[38;5;241m.\u001b[39madd_trace(\n\u001b[0;32m     16\u001b[0m     go\u001b[38;5;241m.\u001b[39mScatter(x\u001b[38;5;241m=\u001b[39mannual_average_temperature[\u001b[38;5;124m\"\u001b[39m\u001b[38;5;124mYear\u001b[39m\u001b[38;5;124m\"\u001b[39m], \n\u001b[0;32m     17\u001b[0m                y\u001b[38;5;241m=\u001b[39mannual_average_temperature[\u001b[38;5;124m\"\u001b[39m\u001b[38;5;124mTemperature\u001b[39m\u001b[38;5;124m\"\u001b[39m], \n\u001b[0;32m     18\u001b[0m                name\u001b[38;5;241m=\u001b[39m\u001b[38;5;124m'\u001b[39m\u001b[38;5;124mAVG Temperature\u001b[39m\u001b[38;5;124m'\u001b[39m, \n\u001b[0;32m     19\u001b[0m                hovertemplate\u001b[38;5;241m=\u001b[39m\u001b[38;5;124m'\u001b[39m\u001b[38;5;124m%\u001b[39m\u001b[38;5;132;01m{x}\u001b[39;00m\u001b[38;5;124m<br>Temperature: \u001b[39m\u001b[38;5;124m%\u001b[39m\u001b[38;5;132;01m{y:.1f}\u001b[39;00m\u001b[38;5;124m°C<extra></extra>\u001b[39m\u001b[38;5;124m'\u001b[39m),\n\u001b[0;32m     20\u001b[0m     secondary_y\u001b[38;5;241m=\u001b[39m\u001b[38;5;28;01mTrue\u001b[39;00m)\n",
      "\u001b[1;31mNameError\u001b[0m: name 'go' is not defined"
     ]
    }
   ],
   "source": [
    "import plotly.graph_objs as go\n",
    "from plotly.subplots import make_subplots\n",
    "\n",
    "# Create container for dual axis line chart\n",
    "fig = make_subplots(specs=[[{\"secondary_y\": True}]])\n",
    "\n",
    "# Add Global CO2 Emissions to the primary y-axis\n",
    "fig.add_trace(\n",
    "    go.Scatter(x=annual_global_emissions_filtered[\"Year\"], \n",
    "               y=annual_global_emissions_filtered[\"CO2 Emissions\"], \n",
    "               name='CO2 Emissions', \n",
    "               hovertemplate='%{x}<br>CO2 Emissions: %{y:.2s}<extra></extra>'),\n",
    "    secondary_y=False)\n",
    "\n",
    "# Add Global Average Temperature to the secondary y-axis\n",
    "fig.add_trace(\n",
    "    go.Scatter(x=annual_average_temperature[\"Year\"], \n",
    "               y=annual_average_temperature[\"Temperature\"], \n",
    "               name='AVG Temperature', \n",
    "               hovertemplate='%{x}<br>Temperature: %{y:.1f}°C<extra></extra>'),\n",
    "    secondary_y=True)\n",
    "\n",
    "# Add figure title\n",
    "fig.update_layout(\n",
    "    title_text=\"CO2 Emissions and Global Average Temperature Over Time\")\n",
    "\n",
    "# Set axis titles\n",
    "fig.update_xaxes(title_text=\"Year\")\n",
    "fig.update_yaxes(title_text=\"CO2 Emissions (metric tons)\", secondary_y=False)\n",
    "fig.update_yaxes(title_text=\"Global Average Temperature (°C)\", secondary_y=True)\n",
    "\n",
    "# Show the dual axis line chart \n",
    "fig.show()"
   ]
  }
 ],
 "metadata": {
  "kernelspec": {
   "display_name": "venv",
   "language": "python",
   "name": "python3"
  },
  "language_info": {
   "codemirror_mode": {
    "name": "ipython",
    "version": 3
   },
   "file_extension": ".py",
   "mimetype": "text/x-python",
   "name": "python",
   "nbconvert_exporter": "python",
   "pygments_lexer": "ipython3",
   "version": "3.10.11"
  }
 },
 "nbformat": 4,
 "nbformat_minor": 2
}
